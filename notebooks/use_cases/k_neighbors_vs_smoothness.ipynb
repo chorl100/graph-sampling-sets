{
 "cells": [
  {
   "cell_type": "markdown",
   "id": "4a80ae2f",
   "metadata": {},
   "source": [
    "# Analysis of Signal Smoothness for Increasing Neighborhood per Node"
   ]
  },
  {
   "cell_type": "markdown",
   "id": "10e0abc2",
   "metadata": {},
   "source": [
    "## Setup"
   ]
  },
  {
   "cell_type": "code",
   "execution_count": null,
   "id": "9ca97dc9",
   "metadata": {},
   "outputs": [],
   "source": [
    "import sys\n",
    "PROJECT_PATH = \"/home/christopher_orlowicz1_vodafone_c/gershgorin\"\n",
    "sys.path.append(PROJECT_PATH)\n",
    "%cd $PROJECT_PATH\n",
    "\n",
    "%load_ext autoreload\n",
    "%autoreload 2"
   ]
  },
  {
   "cell_type": "code",
   "execution_count": null,
   "id": "324f0c4f",
   "metadata": {},
   "outputs": [],
   "source": [
    "from tqdm import tqdm\n",
    "from google.cloud import bigquery\n",
    "import matplotlib.pyplot as plt\n",
    "%config InlineBackend.figure_format = \"retina\"\n",
    "import numpy as np\n",
    "import pandas as pd\n",
    "import scipy\n",
    "\n",
    "import src.db.big_query as bq\n",
    "from src.db.preprocessing import Preprocessor\n",
    "from src.db import nps\n",
    "from src.graph.graph import Graph\n",
    "from src.graph.nearest_neighbors import NearestNeighborGraph\n",
    "from src.gsp import laplace_utils\n",
    "import src.utils.plotting as plt_util"
   ]
  },
  {
   "cell_type": "markdown",
   "id": "aae43230",
   "metadata": {},
   "source": [
    "## Load the data"
   ]
  },
  {
   "cell_type": "code",
   "execution_count": null,
   "id": "2652a06a",
   "metadata": {},
   "outputs": [],
   "source": [
    "# specify a timeframe to query\n",
    "from_date = \"2023-01-01\"\n",
    "to_date = \"2023-01-30\"\n",
    "\n",
    "# read the CAR data (feedback score is known for all customers)\n",
    "car_df = bq.join_car_nps(from_date, to_date)\n",
    "\n",
    "prep = Preprocessor(from_date, to_date, data=car_df, verbose=False)\n",
    "car_df, client_ids, adr_zips = prep.car_df, prep.client_ids, prep.adr_zips\n",
    "car_df.shape"
   ]
  },
  {
   "cell_type": "code",
   "execution_count": null,
   "id": "8dcdb92d",
   "metadata": {},
   "outputs": [],
   "source": [
    "s = nps.nps_signal(from_date, to_date, client_ids)"
   ]
  },
  {
   "cell_type": "code",
   "execution_count": null,
   "id": "1075a39f",
   "metadata": {},
   "outputs": [],
   "source": [
    "smoothness = list()\n",
    "n_neighbors = [5, 10, 20, 30, 40, 50, 60, 70, 80, 90, 100]\n",
    "for k in tqdm(n_neighbors):\n",
    "    A = NearestNeighborGraph(n_neighbors=k).build(car_df)\n",
    "    # wrap graph for faster neighborhood queries\n",
    "    graph = Graph(A)\n",
    "    L = graph.laplacian()\n",
    "    lqf = laplace_utils.norm_lap_quad_form(L, s)\n",
    "    smoothness.append(lqf)"
   ]
  },
  {
   "cell_type": "code",
   "execution_count": null,
   "id": "ad3f2bff",
   "metadata": {},
   "outputs": [],
   "source": [
    "plt.figure(figsize=(6,4))\n",
    "plt.plot(n_neighbors, smoothness)\n",
    "plt.title(\"Signal smoothness for growing neighbourhood\")\n",
    "plt.xlabel(\"$k$ neighbours\")\n",
    "plt.ylabel(\"Smoothness\")\n",
    "plt.savefig(\"out/nps_smoothness_for_growing_neighbourhood.pdf\")"
   ]
  },
  {
   "cell_type": "code",
   "execution_count": null,
   "id": "f980dc29",
   "metadata": {},
   "outputs": [],
   "source": []
  }
 ],
 "metadata": {
  "kernelspec": {
   "display_name": "Python 3 (ipykernel)",
   "language": "python",
   "name": "python3"
  },
  "language_info": {
   "codemirror_mode": {
    "name": "ipython",
    "version": 3
   },
   "file_extension": ".py",
   "mimetype": "text/x-python",
   "name": "python",
   "nbconvert_exporter": "python",
   "pygments_lexer": "ipython3",
   "version": "3.8.5"
  }
 },
 "nbformat": 4,
 "nbformat_minor": 5
}
