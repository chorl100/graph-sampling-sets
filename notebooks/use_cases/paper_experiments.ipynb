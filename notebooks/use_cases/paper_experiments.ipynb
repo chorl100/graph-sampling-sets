{
 "cells": [
  {
   "cell_type": "markdown",
   "id": "c52c1698",
   "metadata": {},
   "source": [
    "# Redo experiments on the graphs from the paper"
   ]
  },
  {
   "cell_type": "code",
   "execution_count": null,
   "id": "f2c1bdd2",
   "metadata": {},
   "outputs": [],
   "source": [
    "import sys\n",
    "sys.path.append(\"../../gershgorin/\")"
   ]
  },
  {
   "cell_type": "code",
   "execution_count": null,
   "id": "24752483",
   "metadata": {},
   "outputs": [],
   "source": [
    "import networkx as nx\n",
    "from pygsp import graphs\n",
    "import numpy as np\n",
    "import matplotlib.pyplot as plt\n",
    "import scipy\n",
    "import time\n",
    "\n",
    "from src.gershgorin.bs_gda import BS_GDA\n",
    "from src.graph.graph import Graph"
   ]
  },
  {
   "cell_type": "code",
   "execution_count": null,
   "id": "119727b9",
   "metadata": {},
   "outputs": [],
   "source": [
    "%matplotlib inline\n",
    "%config InlineBackend.figure_format = 'retina'\n",
    "%load_ext autoreload\n",
    "%autoreload 2"
   ]
  },
  {
   "cell_type": "markdown",
   "id": "71be9c97",
   "metadata": {},
   "source": [
    "### Experimental setup"
   ]
  },
  {
   "cell_type": "markdown",
   "id": "a8e1007e",
   "metadata": {},
   "source": [
    "#### Graphs"
   ]
  },
  {
   "cell_type": "markdown",
   "id": "ae659f05",
   "metadata": {},
   "source": [
    "We create four types of graphs which are all available in the PyGSP toolbox. Parameters are chosen as in the paper."
   ]
  },
  {
   "cell_type": "code",
   "execution_count": null,
   "id": "e32bc845",
   "metadata": {},
   "outputs": [],
   "source": [
    "seed = 2022\n",
    "n = 100\n",
    "sensor_graph = graphs.Sensor(n, seed=seed)\n",
    "community_graph = graphs.Community(n, seed=seed)\n",
    "barabasi_albert_graph = graphs.BarabasiAlbert(n, m=1, seed=seed)\n",
    "barabasi_albert_graph.set_coordinates(kind='spring', seed=seed)\n",
    "minnesota_graph = graphs.Minnesota()"
   ]
  },
  {
   "cell_type": "code",
   "execution_count": null,
   "id": "3a1f7a7c",
   "metadata": {},
   "outputs": [],
   "source": [
    "fig, axes = plt.subplots(2, 2, figsize=(10,10))\n",
    "sensor_graph.plot(ax=axes[0][0], vertex_size=50)\n",
    "community_graph.plot(ax=axes[0][1], vertex_size=50)\n",
    "barabasi_albert_graph.plot(ax=axes[1][0], vertex_size=50)\n",
    "minnesota_graph.plot(ax=axes[1][1], vertex_size=40)"
   ]
  },
  {
   "cell_type": "markdown",
   "id": "85c27cad",
   "metadata": {},
   "source": [
    "#### Weight matrices"
   ]
  },
  {
   "cell_type": "markdown",
   "id": "f401bdc3",
   "metadata": {},
   "source": [
    "Edge weights are computed using a **gaussian similarity** function:\n",
    "$$\n",
    "w_{ij} = \\exp \\left( -\\frac{||x_i - x_j||^2_2}{\\sigma^2_x} \\right)\n",
    "$$"
   ]
  },
  {
   "cell_type": "markdown",
   "id": "a7f15473",
   "metadata": {},
   "source": [
    "- random sensor graphs: weighted graphs (nothing to do)\n",
    "- rest are unweighted graphs $\\rightarrow$ compute weights manually\n",
    "- community: set $\\sigma_x = 1$\n",
    "- Minnesota: set $\\sigma_x=0.1$\n",
    "- Barabasi-Albert: generate random uniform edge weights from interval $(0,1)$"
   ]
  },
  {
   "cell_type": "code",
   "execution_count": null,
   "id": "a302502a",
   "metadata": {},
   "outputs": [],
   "source": [
    "from scipy.spatial.distance import pdist, squareform\n",
    "\n",
    "def gaussian_similarity(X, sigma):\n",
    "    D = squareform(pdist(X, 'euclidean'))\n",
    "    return np.exp(-(D**2) / sigma**2)"
   ]
  },
  {
   "cell_type": "code",
   "execution_count": null,
   "id": "427cb4f8",
   "metadata": {},
   "outputs": [],
   "source": [
    "W_sensor = sensor_graph.W\n",
    "W_community = gaussian_similarity(community_graph.coords, 1.) * (np.asarray(community_graph.W.todense()) > 0)\n",
    "W_minnesota = gaussian_similarity(minnesota_graph.coords, 0.1) * (np.asarray(minnesota_graph.W.todense()) > 0)\n",
    "W_barabasi_albert = np.random.uniform(0, 1, barabasi_albert_graph.W.shape)"
   ]
  },
  {
   "cell_type": "markdown",
   "id": "21d3e9c1",
   "metadata": {},
   "source": [
    "### Cycle graph"
   ]
  },
  {
   "cell_type": "code",
   "execution_count": null,
   "id": "90c429cf",
   "metadata": {},
   "outputs": [],
   "source": [
    "cycle_graph = nx.cycle_graph(20)\n",
    "G = Graph(nx.adjacency_matrix(cycle_graph).todense())\n",
    "sampling_budget = 5\n",
    "mu = 0.01\n",
    "epsilon = 1e-5\n",
    "tic = time.process_time()\n",
    "sampling_set, T = BS_GDA().bs_gda(G, sampling_budget, mu, epsilon)\n",
    "print(f\"This took {time.process_time()-tic} s\")\n",
    "print(f\"Sampled {len(sampling_set)} nodes\")"
   ]
  },
  {
   "cell_type": "code",
   "execution_count": null,
   "id": "daed46cf",
   "metadata": {},
   "outputs": [],
   "source": [
    "c = np.zeros(G.num_nodes)\n",
    "c[list(sampling_set)] = 1\n",
    "plt.figure(figsize=(4,4))\n",
    "nx.draw(cycle_graph, pos=nx.layout.circular_layout(cycle_graph), node_size=30, width=0.6, node_color=c)"
   ]
  },
  {
   "cell_type": "markdown",
   "id": "f0c656e3",
   "metadata": {},
   "source": [
    "### Connected caveman graph"
   ]
  },
  {
   "cell_type": "code",
   "execution_count": null,
   "id": "89f0f6bf",
   "metadata": {},
   "outputs": [],
   "source": [
    "cavemen_graph = nx.connected_caveman_graph(10, 5)\n",
    "G = Graph(nx.adjacency_matrix(cavemen_graph).todense())\n",
    "sampling_budget = 10\n",
    "mu = 0.01\n",
    "epsilon = 1e-5\n",
    "tic = time.process_time()\n",
    "sampling_set, T = BS_GDA().bs_gda(G, sampling_budget, mu, epsilon)\n",
    "print(f\"This took {time.process_time()-tic} s\")\n",
    "print(f\"Sampled {len(sampling_set)} nodes\")"
   ]
  },
  {
   "cell_type": "code",
   "execution_count": null,
   "id": "147e51b8",
   "metadata": {},
   "outputs": [],
   "source": [
    "c = np.zeros(G.num_nodes)\n",
    "c[list(sampling_set)] = 1\n",
    "plt.figure(figsize=(4,4))\n",
    "nx.draw(cavemen_graph, pos=nx.kamada_kawai_layout(cavemen_graph), node_size=30, width=0.6, node_color=c)"
   ]
  },
  {
   "cell_type": "markdown",
   "id": "2bae56d8",
   "metadata": {},
   "source": [
    "### Community graph"
   ]
  },
  {
   "cell_type": "code",
   "execution_count": null,
   "id": "cd27583d",
   "metadata": {},
   "outputs": [],
   "source": [
    "G = nx.Graph(community_graph.W)\n",
    "# take largest connected component\n",
    "S = G.subgraph(max(nx.connected_components(G), key=len))\n",
    "G = Graph(nx.adjacency_matrix(S))\n",
    "sampling_budget = 5\n",
    "mu = 0.01\n",
    "epsilon = 1e-5\n",
    "tic = time.process_time()\n",
    "sampling_set, T = BS_GDA().bs_gda(G, sampling_budget, mu, epsilon)\n",
    "print(f\"This took {time.process_time()-tic} s\")\n",
    "print(f\"Sampled {len(sampling_set)} nodes\")"
   ]
  },
  {
   "cell_type": "code",
   "execution_count": null,
   "id": "5386133a",
   "metadata": {},
   "outputs": [],
   "source": [
    "c = np.zeros(G.num_nodes)\n",
    "c[list(sampling_set)] = 1\n",
    "plt.figure(figsize=(4,4))\n",
    "nx.draw(S, pos=community_graph.coords, node_size=c*50, width=0.3, node_color=c)"
   ]
  },
  {
   "cell_type": "markdown",
   "id": "2c26e861",
   "metadata": {},
   "source": [
    "### Sensor graph"
   ]
  },
  {
   "cell_type": "code",
   "execution_count": null,
   "id": "35e9c899",
   "metadata": {},
   "outputs": [],
   "source": [
    "G = Graph(sensor_graph.W)\n",
    "sampling_budget = int(0.1*G.num_nodes)\n",
    "mu = 0.01\n",
    "epsilon = 1e-5\n",
    "tic = time.process_time()\n",
    "sampling_set, T = BS_GDA().bs_gda(G, sampling_budget, mu, epsilon)\n",
    "print(f\"This took {time.process_time()-tic} s\")\n",
    "print(f\"Sampled {len(sampling_set)} nodes\")"
   ]
  },
  {
   "cell_type": "code",
   "execution_count": null,
   "id": "8258608a",
   "metadata": {},
   "outputs": [],
   "source": [
    "c = np.zeros(G.num_nodes)\n",
    "c[list(sampling_set)] = 1\n",
    "plt.figure(figsize=(4,4))\n",
    "nx.draw(nx.Graph(sensor_graph.W), pos=sensor_graph.coords, node_size=30, width=0.6, node_color=c)"
   ]
  },
  {
   "cell_type": "markdown",
   "id": "d35885db",
   "metadata": {},
   "source": [
    "### Barabasi-Albert graph"
   ]
  },
  {
   "cell_type": "code",
   "execution_count": null,
   "id": "f1043080",
   "metadata": {},
   "outputs": [],
   "source": [
    "G = Graph(barabasi_albert_graph.W)\n",
    "sampling_budget = int(0.1*G.num_nodes)\n",
    "mu = 0.01\n",
    "epsilon = 1e-5\n",
    "tic = time.process_time()\n",
    "sampling_set, T = BS_GDA().bs_gda(G, sampling_budget, mu, epsilon)\n",
    "print(f\"This took {time.process_time()-tic} s\")\n",
    "print(f\"Sampled {len(sampling_set)} nodes\")"
   ]
  },
  {
   "cell_type": "code",
   "execution_count": null,
   "id": "85666457",
   "metadata": {},
   "outputs": [],
   "source": [
    "c = np.zeros(G.num_nodes)\n",
    "c[list(sampling_set)] = 1\n",
    "plt.figure(figsize=(4,4))\n",
    "nx.draw(nx.Graph(barabasi_albert_graph.W), pos=barabasi_albert_graph.coords, node_size=30, width=0.6, node_color=c)"
   ]
  },
  {
   "cell_type": "markdown",
   "id": "f303e54d",
   "metadata": {},
   "source": [
    "### Minnesota graph"
   ]
  },
  {
   "cell_type": "code",
   "execution_count": null,
   "id": "8f27bdb9",
   "metadata": {},
   "outputs": [],
   "source": [
    "G = Graph(minnesota_graph.W)\n",
    "sampling_budget = int(0.1*G.num_nodes)\n",
    "mu = 0.01\n",
    "epsilon = 1e-5\n",
    "tic = time.process_time()\n",
    "sampling_set, T = BS_GDA().bs_gda(G, sampling_budget, mu, epsilon)\n",
    "print(f\"This took {time.process_time()-tic} s\")\n",
    "print(f\"Sampled {len(sampling_set)} nodes\")"
   ]
  },
  {
   "cell_type": "code",
   "execution_count": null,
   "id": "3c32492a",
   "metadata": {},
   "outputs": [],
   "source": [
    "c = np.zeros(G.num_nodes)\n",
    "c[list(sampling_set)] = 1\n",
    "plt.figure(figsize=(4,4))\n",
    "nx.draw(nx.Graph(minnesota_graph.W), pos=minnesota_graph.coords, node_size=20, width=0.6, node_color=c)"
   ]
  },
  {
   "cell_type": "code",
   "execution_count": null,
   "id": "0fd5bfe1",
   "metadata": {},
   "outputs": [],
   "source": []
  }
 ],
 "metadata": {
  "kernelspec": {
   "display_name": "Python 3 (ipykernel)",
   "language": "python",
   "name": "python3"
  },
  "language_info": {
   "codemirror_mode": {
    "name": "ipython",
    "version": 3
   },
   "file_extension": ".py",
   "mimetype": "text/x-python",
   "name": "python",
   "nbconvert_exporter": "python",
   "pygments_lexer": "ipython3",
   "version": "3.8.5"
  }
 },
 "nbformat": 4,
 "nbformat_minor": 5
}
