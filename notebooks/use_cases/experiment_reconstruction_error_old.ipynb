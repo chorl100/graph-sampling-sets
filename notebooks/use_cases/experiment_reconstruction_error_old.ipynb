{
 "cells": [
  {
   "cell_type": "markdown",
   "id": "8bdc2532",
   "metadata": {},
   "source": [
    "# Experiment: Reconstruction Quality of Sampled Signal"
   ]
  },
  {
   "cell_type": "markdown",
   "id": "2928f315",
   "metadata": {},
   "source": [
    "## Setup"
   ]
  },
  {
   "cell_type": "code",
   "execution_count": null,
   "id": "fab6d288",
   "metadata": {},
   "outputs": [],
   "source": [
    "import sys\n",
    "PROJECT_PATH = \"/home/christopher_orlowicz1_vodafone_c/gershgorin\"\n",
    "sys.path.append(PROJECT_PATH)\n",
    "%cd $PROJECT_PATH\n",
    "\n",
    "%load_ext autoreload\n",
    "%autoreload 2"
   ]
  },
  {
   "cell_type": "code",
   "execution_count": null,
   "id": "bf9cddf1",
   "metadata": {},
   "outputs": [],
   "source": [
    "#%pip install -q -r requirements.txt\n",
    "#%pip install graphilp"
   ]
  },
  {
   "cell_type": "code",
   "execution_count": null,
   "id": "429be5a3",
   "metadata": {},
   "outputs": [],
   "source": [
    "import time\n",
    "from tqdm import tqdm\n",
    "\n",
    "from google.cloud import bigquery\n",
    "import matplotlib.pyplot as plt\n",
    "%config InlineBackend.figure_format = \"retina\"\n",
    "import networkx as nx\n",
    "import numpy as np\n",
    "import pandas as pd\n",
    "import pandas_gbq\n",
    "import scipy\n",
    "from sklearn.neighbors import kneighbors_graph\n",
    "\n",
    "import src.db.big_query as bq\n",
    "from src.db.preprocessing import Preprocessor\n",
    "from src.gershgorin.bs_gda import bs_gda\n",
    "from src.graph.graph import Graph\n",
    "from src.graph import metrics\n",
    "import src.utils.plotting as util_plt"
   ]
  },
  {
   "cell_type": "markdown",
   "id": "8e5a9bf1",
   "metadata": {},
   "source": [
    "## Load customer data (CAR)"
   ]
  },
  {
   "cell_type": "code",
   "execution_count": null,
   "id": "f4e3da8b",
   "metadata": {},
   "outputs": [],
   "source": [
    "# specify a timeframe to query\n",
    "from_date = \"2022-08-01\"\n",
    "to_date = \"2022-08-30\""
   ]
  },
  {
   "cell_type": "code",
   "execution_count": null,
   "id": "96938eb5",
   "metadata": {},
   "outputs": [],
   "source": [
    "# read the CAR data (where all customers gave feedback)\n",
    "car_df = bq.join_car_nps(from_date, to_date)\n",
    "# read the recommendation values (NPS data) that we will use as signal\n",
    "answers_df = bq.nps_query_timeframe(from_date, to_date)\n",
    "# remove answers that cannot be assigned to a customer in CAR\n",
    "not_in_car_ids = answers_df.client_id[~answers_df.client_id.isin(car_df.client_id)]\n",
    "answers_df = answers_df[~answers_df.client_id.isin(not_in_car_ids)]"
   ]
  },
  {
   "cell_type": "code",
   "execution_count": null,
   "id": "3c9c575b",
   "metadata": {},
   "outputs": [],
   "source": [
    "prep = Preprocessor(from_date, to_date, data=car_df, verbose=False)\n",
    "car_df, client_ids = prep.car_df, prep.client_ids\n",
    "# inspect nan columns\n",
    "#nan_cols = car_df.columns[car_df.isna().sum() > 0]\n",
    "# remove these columns for now\n",
    "#car_df.drop(nan_cols, axis=1, inplace=True)"
   ]
  },
  {
   "cell_type": "markdown",
   "id": "68ff036e",
   "metadata": {},
   "source": [
    "## Construct graph"
   ]
  },
  {
   "cell_type": "code",
   "execution_count": null,
   "id": "42bb69b1",
   "metadata": {},
   "outputs": [],
   "source": [
    "n_nodes = car_df.shape[0]\n",
    "d = 0.1  # upper (directed) / lower (undirected) bound on graph density\n",
    "k = np.ceil(d*n_nodes).astype(int)  # compute number of neighbors based on desired density\n",
    "t = time.perf_counter()\n",
    "A = kneighbors_graph(car_df, k, mode='connectivity', include_self=False, n_jobs=-1)\n",
    "#A = A.maximum(A.T)  # symmetrize the matrix (but density can be significantly higher)\n",
    "print(f\"This took {time.perf_counter()-t:.3f} s\")"
   ]
  },
  {
   "cell_type": "code",
   "execution_count": null,
   "id": "e78786a2",
   "metadata": {},
   "outputs": [],
   "source": [
    "metrics.density(n_nodes, A.getnnz()/2, mode=\"undirected\")"
   ]
  },
  {
   "cell_type": "code",
   "execution_count": null,
   "id": "ac349dfc",
   "metadata": {},
   "outputs": [],
   "source": [
    "# wrap graph for faster neighborhood queries\n",
    "graph = Graph(A)"
   ]
  },
  {
   "cell_type": "markdown",
   "id": "d04c7075",
   "metadata": {},
   "source": [
    "## Signal smoothness"
   ]
  },
  {
   "cell_type": "markdown",
   "id": "b207ad96",
   "metadata": {},
   "source": [
    "### Mask signal"
   ]
  },
  {
   "cell_type": "code",
   "execution_count": null,
   "id": "dacb1a53",
   "metadata": {},
   "outputs": [],
   "source": [
    "def mask_signal(s, num_masked=None, index=None, val=0):\n",
    "    \"\"\"\n",
    "    Masks a signal vector either by setting random indices to a specified value (default: 0)\n",
    "    or by setting a given list of indices to that value.\n",
    "    :param s: signal vector\n",
    "    :param num_masked: number of entries to mask\n",
    "    :param index: (optional) indices of entries that shall be masked\n",
    "    :param val: masking value\n",
    "    :return: masked signal\n",
    "    \"\"\"\n",
    "    masked_s = s.copy()\n",
    "    if index is None:\n",
    "        if num_masked is None or num_masked <= 0:\n",
    "            raise ValueError(\"num_masked needs to be greater than zero\")\n",
    "        rng = np.random.default_rng()\n",
    "        rand_idx = rng.choice(len(s), num_masked, replace=False)\n",
    "        masked_s[rand_idx] = val\n",
    "    else:\n",
    "        masked_s[index] = val\n",
    "    return masked_s"
   ]
  },
  {
   "cell_type": "code",
   "execution_count": null,
   "id": "1994005c",
   "metadata": {},
   "outputs": [],
   "source": [
    "s = answers_df.answer_value.values.astype(int)\n",
    "prct_masked = 0.1\n",
    "num_masked = int(prct_masked*n_nodes)\n",
    "s_masked = mask_signal(s, num_masked, val=-1)"
   ]
  },
  {
   "cell_type": "markdown",
   "id": "8760cbe5",
   "metadata": {},
   "source": [
    "### Compute sampling sets and reconstruct signal"
   ]
  },
  {
   "cell_type": "code",
   "execution_count": null,
   "id": "97b2a09e",
   "metadata": {},
   "outputs": [],
   "source": [
    "from scipy import sparse\n",
    "\n",
    "def reconstruct(graph, sampling_set, s, mu=0.01):\n",
    "    L = sparse.diags(graph.deg, 0) - A\n",
    "    a = np.zeros(n_nodes, dtype=bool)\n",
    "    a[list(sampling_set)] = 1\n",
    "    B = np.diag(a) + mu * L\n",
    "    B = sparse.csc_matrix(B)\n",
    "    # compute the reconstruction matrix\n",
    "    I = np.eye(L.shape[0])\n",
    "    reconstr_mat = I - mu * sparse.linalg.inv(B) @ L\n",
    "    noise = np.random.normal(size=n_nodes)*0.01\n",
    "    s_reconst = reconstr_mat @ (s.reshape(-1, 1) + noise)\n",
    "    return s_reconst"
   ]
  },
  {
   "cell_type": "code",
   "execution_count": null,
   "id": "8b7edb3c",
   "metadata": {},
   "outputs": [],
   "source": [
    "def mse(a, b):\n",
    "    return np.mean(np.square(a-b))"
   ]
  },
  {
   "cell_type": "code",
   "execution_count": null,
   "id": "3a51a27d",
   "metadata": {},
   "outputs": [],
   "source": [
    "sampling_budgets = [20, 50, 100, 200]\n",
    "sets = []\n",
    "\n",
    "for budget in tqdm(sampling_budgets):\n",
    "    sampling_set, _ = bs_gda(graph, budget, parallel=True)\n",
    "    sets.append(sampling_set)"
   ]
  },
  {
   "cell_type": "code",
   "execution_count": null,
   "id": "3a224163",
   "metadata": {},
   "outputs": [],
   "source": [
    "reconstr_errors = []\n",
    "\n",
    "for sampling_set in sets:\n",
    "    s_reconst = reconstruct(graph, sampling_set, s)\n",
    "    reconstr_errors.append(mse(s, s_reconst))"
   ]
  },
  {
   "cell_type": "code",
   "execution_count": null,
   "id": "29c4507f",
   "metadata": {},
   "outputs": [],
   "source": [
    "def exact():\n",
    "    B = sparse.csr_matrix(B)\n",
    "    se, _ = sparse.linalg.eigsh(B, k=1, which='SM')\n",
    "    print(f\"smallest eigenvalue via eigen-decomposition: {se[0]}\\n\")"
   ]
  },
  {
   "cell_type": "code",
   "execution_count": null,
   "id": "0c963b27",
   "metadata": {},
   "outputs": [],
   "source": [
    "plt.title(\"Reconstruction errors for growing sampling budget\")\n",
    "plt.xlabel(\"Sampling budget\")\n",
    "plt.ylabel(\"Reconstruction MSE\")\n",
    "plt.plot(sampling_budgets, reconstr_errors);"
   ]
  },
  {
   "cell_type": "code",
   "execution_count": null,
   "id": "3256c6a1",
   "metadata": {},
   "outputs": [],
   "source": []
  }
 ],
 "metadata": {
  "finalized": {
   "timestamp": 1678121674618,
   "trusted": true
  },
  "kernelspec": {
   "display_name": "Python 3 (ipykernel)",
   "language": "python",
   "name": "python3"
  },
  "language_info": {
   "codemirror_mode": {
    "name": "ipython",
    "version": 3
   },
   "file_extension": ".py",
   "mimetype": "text/x-python",
   "name": "python",
   "nbconvert_exporter": "python",
   "pygments_lexer": "ipython3",
   "version": "3.8.5"
  }
 },
 "nbformat": 4,
 "nbformat_minor": 5
}
