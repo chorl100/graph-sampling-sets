{
 "cells": [
  {
   "cell_type": "markdown",
   "id": "37393631",
   "metadata": {},
   "source": [
    "# Are the sampled nodes also \"central\" nodes?"
   ]
  },
  {
   "cell_type": "code",
   "execution_count": null,
   "id": "dbe429b9",
   "metadata": {},
   "outputs": [],
   "source": [
    "import sys\n",
    "sys.path.append(\"../\")"
   ]
  },
  {
   "cell_type": "code",
   "execution_count": null,
   "id": "a73bc29c",
   "metadata": {},
   "outputs": [],
   "source": [
    "import warnings\n",
    "warnings.simplefilter(action='ignore', category=FutureWarning)\n",
    "\n",
    "import itertools as it\n",
    "import time\n",
    "\n",
    "import numpy as np\n",
    "import scipy\n",
    "import pandas as pd\n",
    "import networkx as nx\n",
    "import matplotlib.pyplot as plt\n",
    "import seaborn as sns\n",
    "\n",
    "from src.gershgorin.bs_gda import BS_GDA\n",
    "from src.graph.graph import Graph"
   ]
  },
  {
   "cell_type": "code",
   "execution_count": null,
   "id": "1a3a96a6",
   "metadata": {},
   "outputs": [],
   "source": [
    "%matplotlib inline\n",
    "%config InlineBackend.figure_format = 'retina'\n",
    "%load_ext autoreload\n",
    "%autoreload 2"
   ]
  },
  {
   "cell_type": "markdown",
   "id": "961d6035",
   "metadata": {},
   "source": [
    "## Build Graph"
   ]
  },
  {
   "cell_type": "code",
   "execution_count": null,
   "id": "c89c0b78",
   "metadata": {},
   "outputs": [],
   "source": [
    "G = nx.random_partition_graph([10, 10, 10, 10], p_in=0.8, p_out=0.3)\n",
    "#G = nx.grid_2d_graph(10, 10)\n",
    "#G = nx.connected_caveman_graph(5, 10)\n",
    "G = nx.convert_node_labels_to_integers(G)\n",
    "pos = nx.layout.spring_layout(G, seed=0)\n",
    "plt.figure(figsize=(3,3))\n",
    "nx.draw(G, pos=pos, node_size=50, width=.4)"
   ]
  },
  {
   "cell_type": "markdown",
   "id": "46b7003d",
   "metadata": {},
   "source": [
    "## Centrality measures\n",
    "\n",
    "- Betweenness centrality\n",
    "- Closeness centrality\n",
    "- Degree centrality\n",
    "- Eigenvector centrality"
   ]
  },
  {
   "cell_type": "code",
   "execution_count": null,
   "id": "acdb51be",
   "metadata": {},
   "outputs": [],
   "source": [
    "centrality_measures = [nx.betweenness_centrality, nx.closeness_centrality, nx.degree_centrality, nx.eigenvector_centrality]\n",
    "centrality_scores = dict()\n",
    "\n",
    "for c in centrality_measures:\n",
    "    centrality_scores[c.__name__] = c(G)"
   ]
  },
  {
   "cell_type": "code",
   "execution_count": null,
   "id": "99c13bac",
   "metadata": {},
   "outputs": [],
   "source": [
    "plt.figure(figsize=(6,3))\n",
    "for method, c in centrality_scores.items():\n",
    "    plt.plot(np.arange(len(G)), c.values(), marker='o', label=method)\n",
    "\n",
    "plt.title(\"Centrality scores\", y=1.05)\n",
    "plt.xlabel(\"node\")\n",
    "plt.ylabel(\"centrality\")\n",
    "plt.legend(bbox_to_anchor=(1, 0.5));"
   ]
  },
  {
   "cell_type": "code",
   "execution_count": null,
   "id": "30f2980f",
   "metadata": {},
   "outputs": [],
   "source": [
    "fig, axs = plt.subplots(2,2)\n",
    "for ax, (method, c) in zip(axs.flat, centrality_scores.items()):\n",
    "    ax.set_title(method)\n",
    "    nx.draw(G, pos=pos, node_size=20, width=0.4, node_color=list(c.values()), ax=ax)"
   ]
  },
  {
   "cell_type": "code",
   "execution_count": null,
   "id": "1e4360ab",
   "metadata": {},
   "outputs": [],
   "source": [
    "sampling_budget = 10\n",
    "\n",
    "graph = Graph(nx.adjacency_matrix(G))\n",
    "sampling_set, _ = BS_GDA().bs_gda(graph, sampling_budget)"
   ]
  },
  {
   "cell_type": "code",
   "execution_count": null,
   "id": "6f0057bd",
   "metadata": {},
   "outputs": [],
   "source": [
    "c = np.zeros(graph.num_nodes)\n",
    "c[list(sampling_set)] = 1\n",
    "sizes = 40*c + 20\n",
    "plt.figure(figsize=(3,3))\n",
    "plt.title(\"Sampled nodes\", size=10)\n",
    "nx.draw(G, pos=pos, node_size=sizes, width=0.4, node_color=c)"
   ]
  },
  {
   "cell_type": "markdown",
   "id": "05a85846",
   "metadata": {},
   "source": [
    "### Convert discrete sampling centrality to continuous vector"
   ]
  },
  {
   "cell_type": "code",
   "execution_count": null,
   "id": "b38f5dd9",
   "metadata": {},
   "outputs": [],
   "source": [
    "def propagate_centrality(G, p: float, start=None):\n",
    "    \"\"\"\n",
    "    Simulates the propagation of a value from one or more nodes to their neighbors.\n",
    "    The initial signal at the starting node(s) is propagated with probability p to the neighboring nodes.\n",
    "    :param G: graph\n",
    "    :param start: starting node(s) where the signal is set to 1 (discrete centrality vector)\n",
    "    :param p: propagation probability\n",
    "    :return: continuous centrality vector\n",
    "    \"\"\"\n",
    "    n = len(G)\n",
    "    s = np.zeros(n)\n",
    "    if start is None:\n",
    "        start = np.random.choice(n)\n",
    "    s[start] = 1.\n",
    "    H = nx.bfs_successors(G, start)\n",
    "    for node, neighbors in H:\n",
    "        for neighbor in neighbors:\n",
    "            s[neighbor] += p * s[node]\n",
    "    return s"
   ]
  },
  {
   "cell_type": "code",
   "execution_count": null,
   "id": "787e49fe",
   "metadata": {},
   "outputs": [],
   "source": [
    "propagated_centrality = [propagate_centrality(G, 0.7, node) for node in sampling_set]\n",
    "sampling_centrality = np.median(np.vstack(propagated_centrality), axis=0)\n",
    "z_vals = (sampling_centrality - np.mean(sampling_centrality)) / np.std(sampling_centrality)"
   ]
  },
  {
   "cell_type": "code",
   "execution_count": null,
   "id": "4d7a19ef",
   "metadata": {},
   "outputs": [],
   "source": [
    "sizes = 40*sampling_centrality + 20\n",
    "plt.figure(figsize=(3,3))\n",
    "plt.title(\"Sampling centrality\")\n",
    "nx.draw(G, pos=pos, node_size=sizes, width=0.4, node_color=sampling_centrality)"
   ]
  },
  {
   "cell_type": "code",
   "execution_count": null,
   "id": "3f460da4",
   "metadata": {},
   "outputs": [],
   "source": [
    "def diffusion_process(G, t_steps, u0=None):\n",
    "    \"\"\"\n",
    "    Simulates a diffusion process on graph G.\n",
    "    :param G: graph\n",
    "    :param t_steps: number of time steps\n",
    "    :param u0: starting distribution / signal\n",
    "    :return: matrix U where column i corresponds to the signal after i time steps.\n",
    "    \"\"\"\n",
    "    L = nx.laplacian_matrix(G).astype('float')\n",
    "    n = len(G.nodes)\n",
    "    if u0 is None:\n",
    "        u0 = np.random.rand(n, 1)\n",
    "\n",
    "    L = scipy.sparse.csc_matrix(L)\n",
    "    expL = scipy.sparse.linalg.expm(-t_steps * L)\n",
    "\n",
    "    U = np.zeros((n, t_steps))\n",
    "    U[:, 0] = u0.reshape(n)\n",
    "    for i in range(1, t_steps):\n",
    "        U[:, i] = (expL @ U[:, i-1]).reshape(n)\n",
    "    return U"
   ]
  },
  {
   "cell_type": "code",
   "execution_count": null,
   "id": "d9491625",
   "metadata": {},
   "outputs": [],
   "source": [
    "diffusion_process(G, 3, c)"
   ]
  },
  {
   "cell_type": "markdown",
   "id": "f92280fa",
   "metadata": {},
   "source": [
    "## Correlation coefficients"
   ]
  },
  {
   "cell_type": "code",
   "execution_count": null,
   "id": "02ec3126",
   "metadata": {},
   "outputs": [],
   "source": [
    "# cast centrality dicts to arrays\n",
    "centralities = {m: np.array(list(c.values())) for m, c in centrality_scores.items()}\n",
    "# add gershgorin result to other centralities\n",
    "centralities['sampling_centrality'] = sampling_centrality"
   ]
  },
  {
   "cell_type": "code",
   "execution_count": null,
   "id": "49df007b",
   "metadata": {},
   "outputs": [],
   "source": [
    "data = np.vstack(list(centralities.values())).T\n",
    "df = pd.DataFrame(data, columns=centralities.keys())"
   ]
  },
  {
   "cell_type": "code",
   "execution_count": null,
   "id": "d8314dfb",
   "metadata": {},
   "outputs": [],
   "source": [
    "df.head()"
   ]
  },
  {
   "cell_type": "code",
   "execution_count": null,
   "id": "2fa585a3",
   "metadata": {},
   "outputs": [],
   "source": [
    "plt.figure(figsize=(4,4))\n",
    "plt.title(\"Pearson Correlation of Centrality Values\", y=1.05, size=10)\n",
    "sns.heatmap(df.corr(), annot=True, linewidth=0.1, fmt=\".2f\", cmap=plt.cm.copper);"
   ]
  },
  {
   "cell_type": "markdown",
   "id": "c65a10b8",
   "metadata": {},
   "source": [
    "## Distance to closest central node"
   ]
  },
  {
   "cell_type": "code",
   "execution_count": null,
   "id": "91a57ce0",
   "metadata": {},
   "outputs": [],
   "source": [
    "def dist_to_closest_central_node(graph, sampling_set, centralities):\n",
    "    closest_dist = np.inf\n",
    "    central_nodes = np.flatnonzero(centralities > np.median(centralities))\n",
    "    for node in sampling_set:\n",
    "        # compute shortest path lengths from sampled node\n",
    "        # to all other nodes\n",
    "        sp_lengths = nx.shortest_path_length(graph, node)\n",
    "        dists_central = {node: dist for node, dist in sp_lengths.items() if node in central_nodes}\n",
    "        dist = min(dists_central.values())\n",
    "        if dist < closest_dist:\n",
    "            closest_dist = dist\n",
    "    return closest_dist"
   ]
  },
  {
   "cell_type": "code",
   "execution_count": null,
   "id": "e6390f1a",
   "metadata": {},
   "outputs": [],
   "source": [
    "dist_to_closest_central_node(G, sampling_set, centralities['betweenness_centrality'])"
   ]
  },
  {
   "cell_type": "code",
   "execution_count": null,
   "id": "81088230",
   "metadata": {},
   "outputs": [],
   "source": []
  }
 ],
 "metadata": {
  "kernelspec": {
   "display_name": "Python 3 (ipykernel)",
   "language": "python",
   "name": "python3"
  },
  "language_info": {
   "codemirror_mode": {
    "name": "ipython",
    "version": 3
   },
   "file_extension": ".py",
   "mimetype": "text/x-python",
   "name": "python",
   "nbconvert_exporter": "python",
   "pygments_lexer": "ipython3",
   "version": "3.8.5"
  }
 },
 "nbformat": 4,
 "nbformat_minor": 5
}
