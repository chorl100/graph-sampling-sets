{
 "cells": [
  {
   "cell_type": "markdown",
   "id": "91319ffa",
   "metadata": {},
   "source": [
    "# Comparison of One Signal on Different Graphs"
   ]
  },
  {
   "cell_type": "markdown",
   "id": "b131f224",
   "metadata": {},
   "source": [
    "## Setup"
   ]
  },
  {
   "cell_type": "code",
   "execution_count": null,
   "id": "069646fe",
   "metadata": {},
   "outputs": [],
   "source": [
    "import sys\n",
    "PROJECT_PATH = \"/home/christopher_orlowicz1_vodafone_c/gershgorin\"\n",
    "sys.path.append(PROJECT_PATH)\n",
    "%load_ext autoreload\n",
    "%autoreload 2"
   ]
  },
  {
   "cell_type": "code",
   "execution_count": null,
   "id": "05fc284b",
   "metadata": {},
   "outputs": [],
   "source": [
    "%cd $PROJECT_PATH"
   ]
  },
  {
   "cell_type": "code",
   "execution_count": null,
   "id": "c00b9780",
   "metadata": {},
   "outputs": [],
   "source": [
    "#!pip install -q -r requirements.txt\n",
    "#!pip install --force-reinstall faiss-gpu"
   ]
  },
  {
   "cell_type": "code",
   "execution_count": null,
   "id": "ed818e79",
   "metadata": {},
   "outputs": [],
   "source": [
    "import math\n",
    "import time\n",
    "\n",
    "from google.cloud import bigquery\n",
    "import matplotlib.pyplot as plt\n",
    "%config InlineBackend.figure_format = \"retina\"\n",
    "import networkx as nx\n",
    "import numpy as np\n",
    "import pandas as pd\n",
    "import pandas_gbq\n",
    "import scipy\n",
    "import sklearn\n",
    "from scipy import sparse\n",
    "from sklearn.neighbors import kneighbors_graph\n",
    "\n",
    "import src.db.big_query as bq\n",
    "from src.db.preprocessing import Preprocessor\n",
    "from src.gershgorin.bs_gda import bs_gda\n",
    "from src.graph.graph import Graph\n",
    "from src.graph import gauss_similarity_graph as gauss, graph_builder, graph_tools, metrics\n",
    "from src.gsp import fourier, laplace_utils, signal, reconstruction\n",
    "import src.utils.plotting as plt_util\n",
    "from src.utils import data_handler, layout\n",
    "from src.eval.eval_reconstruction import run_sampling_budget_experiment, run_reconstruction_analysis_budget_avg"
   ]
  },
  {
   "cell_type": "markdown",
   "id": "cb1d0e6a",
   "metadata": {},
   "source": [
    "## k-nn"
   ]
  },
  {
   "cell_type": "code",
   "execution_count": null,
   "id": "c2f25bc3",
   "metadata": {},
   "outputs": [],
   "source": [
    "IN_DIR = \"out/customer_analytics/2023-01\"\n",
    "size = \"1000\"\n",
    "adj_matrix = sparse.load_npz(f\"{IN_DIR}/graph/knn/{size}/adj_matrix.npz\")\n",
    "graph = Graph(adj_matrix)"
   ]
  },
  {
   "cell_type": "code",
   "execution_count": null,
   "id": "7ab9f67a",
   "metadata": {},
   "outputs": [],
   "source": [
    "#s = np.load(f\"{IN_DIR}/signal/knn/{size}/gs1.npy\")\n",
    "s = np.load(f\"{IN_DIR}/signal/{size}/nps.npy\")\n",
    "#s = signal.gs1(L, size=1) + signal.gauss_noise(size=1)\n",
    "L = graph.laplacian()\n",
    "lamda, V = np.linalg.eigh(np.array(L.todense().astype('float')))\n",
    "s_hat = fourier.gft(V, s)"
   ]
  },
  {
   "cell_type": "code",
   "execution_count": null,
   "id": "c16b826f",
   "metadata": {},
   "outputs": [],
   "source": [
    "plt_util.plot_cdf_gft_energy(lamda, abs(s_hat))\n",
    "plt_util.plot_spectral_domain(lamda, abs(s_hat))\n",
    "#plt.savefig(\"out/spectral_properties_knn_1000_nps.png\", dpi=400)"
   ]
  },
  {
   "cell_type": "code",
   "execution_count": null,
   "id": "823a2b4f",
   "metadata": {},
   "outputs": [],
   "source": [
    "# smoothness\n",
    "laplace_utils.norm_lap_quad_form(L, s)"
   ]
  },
  {
   "cell_type": "code",
   "execution_count": null,
   "id": "15ba7ded",
   "metadata": {},
   "outputs": [],
   "source": [
    "G = nx.Graph(adj_matrix)\n",
    "adr_zips = data_handler.load_csv_to_list(f\"{IN_DIR}/data/{size}/zip_codes.csv\", dtype=str)\n",
    "pos = layout.geo_layout(adr_zips)\n",
    "plt.figure(figsize=(4,4))\n",
    "nx.draw(G, pos, node_size=30, node_color=s.squeeze(), edgelist=[], cmap=\"coolwarm\")"
   ]
  },
  {
   "cell_type": "code",
   "execution_count": null,
   "id": "feaec7e9",
   "metadata": {},
   "outputs": [],
   "source": [
    "\n",
    "sampling_budgets = [100, 200, 300, 400]\n",
    "errors, _, smoothness, _, s_rec = run_sampling_budget_experiment(graph, s, sampling_budgets, 0.01, 1e-5, 6, True)\n",
    "plt_util.plot_reconstruction_error(np.array(sampling_budgets), errors,\n",
    "                                   \"sampling budget\", \"Sampling budget\", \n",
    "                                   graph.num_nodes, filepath=None)"
   ]
  },
  {
   "cell_type": "code",
   "execution_count": null,
   "id": "2df1feec",
   "metadata": {},
   "outputs": [],
   "source": [
    "y_true = s <= 2\n",
    "y_pred = s_rec[-1] < 3\n",
    "y_score = 1/s_rec[-1]"
   ]
  },
  {
   "cell_type": "code",
   "execution_count": null,
   "id": "23f76aef",
   "metadata": {},
   "outputs": [],
   "source": [
    "plt.figure(figsize=(8,4))\n",
    "plt.plot(y_true, label=\"Original\")\n",
    "plt.plot(y_pred, label=\"Reconstruction\");\n",
    "plt.legend()\n",
    "#plt.savefig(\"out/reconstructed_bin_signal.pdf\")"
   ]
  },
  {
   "cell_type": "code",
   "execution_count": null,
   "id": "74f8e0e3",
   "metadata": {},
   "outputs": [],
   "source": [
    "print(sklearn.metrics.precision_score(y_true, y_pred))\n",
    "print(sklearn.metrics.recall_score(y_true, y_pred))"
   ]
  },
  {
   "cell_type": "code",
   "execution_count": null,
   "id": "6e4bbc6d",
   "metadata": {},
   "outputs": [],
   "source": [
    "prec, recall, thresholds = sklearn.metrics.precision_recall_curve(y_true, y_score)\n",
    "plt_util.plot_precision_recall_curve(prec, recall)\n",
    "#plt.savefig(\"out/precision_recall_curve_dd_1000.pdf\")"
   ]
  },
  {
   "cell_type": "markdown",
   "id": "67a4e995",
   "metadata": {},
   "source": [
    "## Gauss"
   ]
  },
  {
   "cell_type": "code",
   "execution_count": null,
   "id": "29eea2b5",
   "metadata": {},
   "outputs": [],
   "source": [
    "size = 1000\n",
    "adj_matrix = sparse.load_npz(f\"{IN_DIR}/graph/gauss/{size}/adj_matrix.npz\")\n",
    "graph = Graph(adj_matrix)"
   ]
  },
  {
   "cell_type": "code",
   "execution_count": null,
   "id": "26a611dd",
   "metadata": {},
   "outputs": [],
   "source": [
    "#s = np.load(f\"{IN_DIR}/signal/gauss/{size}/nps.npy\")\n",
    "s = np.load(f\"{IN_DIR}/signal/{size}/nps.npy\")\n",
    "L = graph.laplacian()\n",
    "lamda, V = np.linalg.eigh(np.array(L.todense().astype('float')))\n",
    "s_hat = fourier.gft(V, s)"
   ]
  },
  {
   "cell_type": "code",
   "execution_count": null,
   "id": "778ca0af",
   "metadata": {},
   "outputs": [],
   "source": [
    "plt_util.plot_cdf_gft_energy(lamda, abs(s_hat), True)\n",
    "plt_util.plot_spectral_domain(lamda, abs(s_hat))"
   ]
  },
  {
   "cell_type": "code",
   "execution_count": null,
   "id": "374dfc49",
   "metadata": {},
   "outputs": [],
   "source": [
    "G = nx.Graph(adj_matrix)\n",
    "adr_zips = data_handler.load_csv_to_list(f\"{IN_DIR}/data/{size}/zip_codes.csv\", dtype=str)\n",
    "pos = layout.geo_layout(adr_zips)\n",
    "plt.figure(figsize=(4,4))\n",
    "nx.draw(G, pos, node_size=30, node_color=s.squeeze(), edgelist=[], cmap=\"coolwarm\")"
   ]
  },
  {
   "cell_type": "code",
   "execution_count": null,
   "id": "8f65b836",
   "metadata": {},
   "outputs": [],
   "source": [
    "# smoothness\n",
    "laplace_utils.norm_lap_quad_form(L, s)"
   ]
  },
  {
   "cell_type": "code",
   "execution_count": null,
   "id": "cc6f2d22",
   "metadata": {},
   "outputs": [],
   "source": [
    "sampling_budgets = [100, 200, 300, 400]\n",
    "errors, _, smoothness, _, s_rec = run_sampling_budget_experiment(graph, s, sampling_budgets, 0.01, 1e-5, 12, False)\n",
    "plt_util.plot_reconstruction_error(np.array(sampling_budgets), errors,\n",
    "                                   \"sampling budget\", \"Sampling budget\", \n",
    "                                   graph.num_nodes, filepath=None)"
   ]
  },
  {
   "cell_type": "code",
   "execution_count": null,
   "id": "1a02691e",
   "metadata": {},
   "outputs": [],
   "source": [
    "y_true = s < 3\n",
    "y_pred = s_rec[-1] < 3\n",
    "np.mean(y_true == y_pred)"
   ]
  },
  {
   "cell_type": "code",
   "execution_count": null,
   "id": "e8be7a2f",
   "metadata": {},
   "outputs": [],
   "source": [
    "G = nx.Graph(adj_matrix)\n",
    "adr_zips = data_handler.load_csv_to_list(f\"{IN_DIR}/data/{size}/zip_codes.csv\", dtype=str)\n",
    "pos = layout.geo_layout(adr_zips)\n",
    "plt.figure(figsize=(4,4))\n",
    "nx.draw(G, pos, node_size=30, node_color=s_rec[-1].squeeze(), edgelist=[], cmap=\"coolwarm\")"
   ]
  },
  {
   "cell_type": "code",
   "execution_count": null,
   "id": "d4dba92d",
   "metadata": {},
   "outputs": [],
   "source": [
    "print(sklearn.metrics.precision_score(y_true, y_pred))\n",
    "print(sklearn.metrics.recall_score(y_true, y_pred))"
   ]
  },
  {
   "cell_type": "code",
   "execution_count": null,
   "id": "465ebedd",
   "metadata": {},
   "outputs": [],
   "source": [
    "prec, recall, _ = sklearn.metrics.precision_recall_curve(y_true, s_rec[-1])\n",
    "plt.plot(recall, prec)\n",
    "plt.title(\"2-class precision-recall curve\")\n",
    "plt.xlabel(\"Recall\")\n",
    "plt.ylabel(\"Precision\");"
   ]
  },
  {
   "cell_type": "code",
   "execution_count": null,
   "id": "34de1899",
   "metadata": {},
   "outputs": [],
   "source": [
    "plt.figure(figsize=(6,4))\n",
    "plt.plot(s)\n",
    "plt.plot(s_rec[-1]);\n",
    "#plt.scatter(range(len(s)), s<3, c='r', marker=\"x\")"
   ]
  },
  {
   "cell_type": "markdown",
   "id": "0339ebd6",
   "metadata": {},
   "source": [
    "## k-NN with Gauss kernel"
   ]
  },
  {
   "cell_type": "code",
   "execution_count": null,
   "id": "7c78dda0",
   "metadata": {},
   "outputs": [],
   "source": [
    "from src.graph.nearest_neighbors import NearestNeighborGraph\n",
    "\n",
    "size = \"500\"\n",
    "data = pd.read_parquet(f\"{IN_DIR}/data/{size}/car.parquet\")\n",
    "adj_matrix = NearestNeighborGraph(n_neighbors=50).build(data)\n",
    "graph = Graph(adj_matrix)"
   ]
  },
  {
   "cell_type": "code",
   "execution_count": null,
   "id": "dee97c36",
   "metadata": {},
   "outputs": [],
   "source": [
    "adj_matrix[adj_matrix>0].A.size"
   ]
  },
  {
   "cell_type": "code",
   "execution_count": null,
   "id": "90d3a159",
   "metadata": {},
   "outputs": [],
   "source": [
    "#s = np.load(f\"{IN_DIR}/signal/{size}/nps.npy\")\n",
    "L = graph.laplacian()\n",
    "s = np.mean(signal.gs1(L, 50) + signal.gauss_noise(size=50), axis=1)\n",
    "#s = signal.gs1(L, 1) + signal.gauss_noise(size=1)\n",
    "lamda, V = np.linalg.eigh(np.array(L.todense().astype('float')))"
   ]
  },
  {
   "cell_type": "code",
   "execution_count": null,
   "id": "e0812077",
   "metadata": {},
   "outputs": [],
   "source": [
    "s_hat = fourier.gft(V, s)"
   ]
  },
  {
   "cell_type": "code",
   "execution_count": null,
   "id": "c53225f8",
   "metadata": {},
   "outputs": [],
   "source": [
    "plt_util.plot_spectral_domain(lamda, s_hat)"
   ]
  },
  {
   "cell_type": "code",
   "execution_count": null,
   "id": "bfd08689",
   "metadata": {},
   "outputs": [],
   "source": [
    "plt.plot(abs(s_hat))\n",
    "plt.xlabel(r\"Eigenvalue index\")\n",
    "plt.ylabel(\"Frequency\");"
   ]
  },
  {
   "cell_type": "code",
   "execution_count": null,
   "id": "feace3a3",
   "metadata": {},
   "outputs": [],
   "source": [
    "# smoothness\n",
    "laplace_utils.norm_lap_quad_form(L, s)"
   ]
  },
  {
   "cell_type": "code",
   "execution_count": null,
   "id": "4bf339cf",
   "metadata": {},
   "outputs": [],
   "source": [
    "sampling_budgets = np.linspace(50, 300, 3).astype(int)\n",
    "errors, _, smoothness, _, s_rec = run_sampling_budget_experiment(graph, s, sampling_budgets, 0.01, 1e-5, 6, False)\n",
    "plt_util.plot_reconstruction_error(np.array(sampling_budgets), errors,\n",
    "                                   \"sampling budget\", \"Sampling budget\", \n",
    "                                   graph.num_nodes, filepath=None)"
   ]
  },
  {
   "cell_type": "code",
   "execution_count": null,
   "id": "f9a17bfb",
   "metadata": {},
   "outputs": [],
   "source": [
    "y_true = s < 3\n",
    "y_pred = s_rec[-1] < 3\n",
    "print(\"Precision:\", np.mean(y_true == y_pred))"
   ]
  },
  {
   "cell_type": "code",
   "execution_count": null,
   "id": "196e1d16",
   "metadata": {},
   "outputs": [],
   "source": [
    "plt.plot(s)\n",
    "plt.plot(s_rec[-1]);"
   ]
  },
  {
   "cell_type": "markdown",
   "id": "9d126342",
   "metadata": {},
   "source": [
    "## Remainder"
   ]
  },
  {
   "cell_type": "code",
   "execution_count": null,
   "id": "faad57c2",
   "metadata": {},
   "outputs": [],
   "source": [
    "return\n",
    "adj_matrix = sparse.load_npz(f\"{IN_DIR}/graph/knn/{size}/adj_matrix.npz\")\n",
    "adj_matrix = gauss.min_max_scale(adj_matrix)\n",
    "dists = adj_matrix[adj_matrix.nonzero()].A1\n",
    "sigma = np.percentile(dists, 25)\n",
    "adj_matrix = gauss.gauss_kernel(adj_matrix.todense(), sigma) * (adj_matrix.todense() > 0)\n",
    "adj_matrix = sparse.csr_matrix(adj_matrix)\n",
    "adj_matrix = symmetrize_adj(adj_matrix)\n",
    "graph = Graph(adj_matrix)"
   ]
  },
  {
   "cell_type": "markdown",
   "id": "90c7336c",
   "metadata": {},
   "source": [
    "## Try out low-pass filtering"
   ]
  },
  {
   "cell_type": "code",
   "execution_count": null,
   "id": "8e5c8c5c",
   "metadata": {},
   "outputs": [],
   "source": [
    "from src.gsp import filter_functions\n",
    "\n",
    "cut_off = lamda[199]\n",
    "s_filtered = filter_functions.apply_filter(L.todense(), s, lambda eigs: filter_functions.low_pass_filter(eigs, cut_off))\n",
    "print(\"MSE between original and filtered:\", reconstruction.mse(s, s_filtered.squeeze()))"
   ]
  },
  {
   "cell_type": "code",
   "execution_count": null,
   "id": "da840ce6",
   "metadata": {},
   "outputs": [],
   "source": [
    "s_hat = fourier.gft(V, s_filtered)\n",
    "plt.plot(abs(s_hat));"
   ]
  },
  {
   "cell_type": "code",
   "execution_count": null,
   "id": "00d389b6",
   "metadata": {},
   "outputs": [],
   "source": [
    "plt_util.plot_cdf_gft_energy(lamda, abs(s_hat), False)\n",
    "plt_util.plot_spectral_domain(lamda, abs(s_hat))"
   ]
  },
  {
   "cell_type": "code",
   "execution_count": null,
   "id": "4b7d3cc3",
   "metadata": {},
   "outputs": [],
   "source": [
    "# smoothness\n",
    "laplace_utils.norm_lap_quad_form(L, s_filtered)"
   ]
  },
  {
   "cell_type": "code",
   "execution_count": null,
   "id": "9e3467e3",
   "metadata": {},
   "outputs": [],
   "source": [
    "G = nx.Graph(adj_matrix)\n",
    "adr_zips = data_handler.load_csv_to_list(f\"{IN_DIR}/data/{size}/zip_codes.csv\", dtype=str)\n",
    "pos = layout.geo_layout(adr_zips)\n",
    "plt.figure(figsize=(4,4))\n",
    "nx.draw(G, pos, node_size=30, node_color=s_filtered.squeeze(), edgelist=[], cmap=\"coolwarm\")"
   ]
  },
  {
   "cell_type": "code",
   "execution_count": null,
   "id": "1901344d",
   "metadata": {},
   "outputs": [],
   "source": [
    "sampling_budgets = [100, 200, 300, 400]\n",
    "errors, _, smoothness, _, s_rec = run_sampling_budget_experiment(graph, s_filtered, sampling_budgets, 0.01, 1e-5, 6, False)\n",
    "plt_util.plot_reconstruction_error(np.array(sampling_budgets), errors,\n",
    "                                   \"sampling budget\", \"Sampling budget\", \n",
    "                                   graph.num_nodes, filepath=None)"
   ]
  },
  {
   "cell_type": "code",
   "execution_count": null,
   "id": "e9df7be7",
   "metadata": {},
   "outputs": [],
   "source": [
    "y_true = s < 3\n",
    "y_pred = s_rec[-1] < 3\n",
    "print(\"Precision:\", np.mean(y_true == y_pred))"
   ]
  },
  {
   "cell_type": "code",
   "execution_count": null,
   "id": "857382fd",
   "metadata": {},
   "outputs": [],
   "source": [
    "def run_reconstruction_analysis_budget(graph, signal_func, sampling_budgets: list, n_signals: int = 50, mu: float = 0.01,\n",
    "                                eps: float = 1e-5, p_hops: int = 12, parallel: bool = False, runs: int = 5, seed: int = 0):\n",
    "    n_nodes = graph.num_nodes\n",
    "    errors = np.zeros((runs, len(sampling_budgets)))\n",
    "    thresholds = np.zeros_like(errors)\n",
    "    print(\"Starting reconstruction analysis.\")\n",
    "    for run in range(runs):\n",
    "        print(\"Run\", run + 1)\n",
    "        L = graph.laplacian()\n",
    "        # sample random signals\n",
    "        rand_signals = signal_func(L, size=n_signals)\n",
    "        # generate random Gaussian noise\n",
    "        gauss_noises = signal.gauss_noise(size=n_signals)\n",
    "        for j, k in enumerate(sampling_budgets):\n",
    "            # if budget is a percentage, multiply with number of nodes\n",
    "            sampling_budget = math.floor(n_nodes * k) if k < 1 else k\n",
    "            print(f\"|\\tK: {sampling_budget}\")\n",
    "            # compute the sampling set\n",
    "            sampling_set, thres = bs_gda(graph, sampling_budget, mu, eps, p_hops, parallel)\n",
    "            print(f\"|\\tsample: {len(sampling_set)} nodes, threshold: {thres}\\n|\")\n",
    "            mses = []\n",
    "            for s in rand_signals.T:\n",
    "                for noise in gauss_noises:\n",
    "                    # add Gaussian noise to the signal\n",
    "                    s_noisy = s + noise\n",
    "                    # reconstruct the original signal from the sampled signal\n",
    "                    s_recon = reconstruction.reconstruct_signal(L, sampling_set, s_noisy[sampling_set], mu)\n",
    "                    mses.append(reconstruction.mse(s_noisy, s_recon))\n",
    "            # take the average MSE over the signals\n",
    "            errors[run, j] = np.mean(mses)\n",
    "            thresholds[run, j] = thres\n",
    "    # take the average MSE over the runs\n",
    "    return errors.mean(axis=0), thresholds.mean(axis=0)"
   ]
  },
  {
   "cell_type": "code",
   "execution_count": null,
   "id": "477e041d",
   "metadata": {},
   "outputs": [],
   "source": [
    "#sampling_budgets = [50, 100, 200, 300, 400, 450]\n",
    "sampling_budgets = [50, 100, 150]\n",
    "errors, thres = run_reconstruction_analysis_budget(graph, signal.gs1, sampling_budgets, n_signals=20, mu=0.01, \n",
    "                                                   eps=1e-5, p_hops=6, parallel=False, runs=1, seed=1234)\n",
    "plt_util.plot_reconstruction_error(np.array(sampling_budgets), errors, \n",
    "                                   \"sampling budget\", \"Sampling budget\", \n",
    "                                   graph.num_nodes, out=None)"
   ]
  },
  {
   "cell_type": "code",
   "execution_count": null,
   "id": "0bb4c59d",
   "metadata": {},
   "outputs": [],
   "source": []
  }
 ],
 "metadata": {
  "kernelspec": {
   "display_name": "Python 3 (ipykernel)",
   "language": "python",
   "name": "python3"
  },
  "language_info": {
   "codemirror_mode": {
    "name": "ipython",
    "version": 3
   },
   "file_extension": ".py",
   "mimetype": "text/x-python",
   "name": "python",
   "nbconvert_exporter": "python",
   "pygments_lexer": "ipython3",
   "version": "3.8.5"
  }
 },
 "nbformat": 4,
 "nbformat_minor": 5
}
