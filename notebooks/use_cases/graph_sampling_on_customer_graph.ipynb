{
 "cells": [
  {
   "cell_type": "markdown",
   "id": "c2952f1a",
   "metadata": {},
   "source": [
    "# Demo of Graph Sampling Set Selection on a Customer Graph"
   ]
  },
  {
   "cell_type": "markdown",
   "id": "4e768e0e",
   "metadata": {},
   "source": [
    "## Setup"
   ]
  },
  {
   "cell_type": "code",
   "execution_count": null,
   "id": "d4759b0e",
   "metadata": {},
   "outputs": [],
   "source": [
    "import sys\n",
    "sys.path.append(\"/home/christopher_orlowicz1_vodafone_c/gershgorin\")\n",
    "%load_ext autoreload\n",
    "%autoreload 2"
   ]
  },
  {
   "cell_type": "code",
   "execution_count": null,
   "id": "40365843",
   "metadata": {},
   "outputs": [],
   "source": [
    "PROJECT_PATH = \"/home/christopher_orlowicz1_vodafone_c/gershgorin\"\n",
    "%cd $PROJECT_PATH"
   ]
  },
  {
   "cell_type": "code",
   "execution_count": null,
   "id": "2f8b8b91",
   "metadata": {},
   "outputs": [],
   "source": [
    "%pip install -q -r requirements.txt"
   ]
  },
  {
   "cell_type": "code",
   "execution_count": null,
   "id": "5c23b0ad",
   "metadata": {},
   "outputs": [],
   "source": [
    "import time\n",
    "\n",
    "import matplotlib.pyplot as plt\n",
    "%config InlineBackend.figure_format = \"retina\"\n",
    "import networkx as nx\n",
    "import numpy as np\n",
    "import pandas as pd\n",
    "import pandas_gbq\n",
    "import scipy\n",
    "\n",
    "import src.db.big_query as bq\n",
    "from src.db.preprocessing import Preprocessor\n",
    "from src.gershgorin.bs_gda import bs_gda\n",
    "from src.graph.graph import Graph\n",
    "from src.graph.similarity_graph import SimilarityGraph\n",
    "import src.utils.plotting as util_plt"
   ]
  },
  {
   "cell_type": "code",
   "execution_count": null,
   "id": "e6272b2f",
   "metadata": {},
   "outputs": [],
   "source": [
    "project_id = \"vf-de-ca-lab\""
   ]
  },
  {
   "cell_type": "markdown",
   "id": "041563e0",
   "metadata": {},
   "source": [
    "## Build customer graph"
   ]
  },
  {
   "cell_type": "code",
   "execution_count": null,
   "id": "9b0fde4a",
   "metadata": {},
   "outputs": [],
   "source": [
    "from_date = \"2022-06-01\"\n",
    "to_date = \"2022-06-30\"\n",
    "n = 1000\n",
    "car_df = Preprocessor(from_date, to_date, limit=n, verbose=False).car_df\n",
    "# inspect nan columns\n",
    "nan_cols = car_df.columns[car_df.isna().sum()>0]\n",
    "car_df[nan_cols].isna().sum()\n",
    "# remove these columns for now\n",
    "car_df.drop(nan_cols, axis=1, inplace=True)"
   ]
  },
  {
   "cell_type": "code",
   "execution_count": null,
   "id": "3c01a8c4",
   "metadata": {},
   "outputs": [],
   "source": [
    "# build graph\n",
    "density = 0.05  # desired density\n",
    "k = np.ceil(density*n).astype(int)\n",
    "A, G = SimilarityGraph(car_df).k_neighbors(k)\n",
    "if n < 2000:\n",
    "    util_plt.plot_adj_matrix(A, markersize=1, figsize=(5,5))\n",
    "    pos = nx.spring_layout(G)\n",
    "    util_plt.draw_graph(G, pos, title=\"Customer graph\")"
   ]
  },
  {
   "cell_type": "markdown",
   "id": "c4c2b53a",
   "metadata": {},
   "source": [
    "## Apply GSSS"
   ]
  },
  {
   "cell_type": "code",
   "execution_count": null,
   "id": "7d120f2f",
   "metadata": {},
   "outputs": [],
   "source": [
    "sampling_budget = int(0.1*n)\n",
    "graph = Graph(nx.adjacency_matrix(G))\n",
    "start = time.perf_counter()\n",
    "sampling_set, _ = bs_gda(graph, sampling_budget, parallel=True)\n",
    "end = time.perf_counter()\n",
    "print(f\"This took {end-start:.3f} s\")\n",
    "print(\"Budget:\", sampling_budget)\n",
    "print(\"Sampled nodes:\", len(sampling_set))"
   ]
  },
  {
   "cell_type": "code",
   "execution_count": null,
   "id": "0f5c5b8e",
   "metadata": {},
   "outputs": [],
   "source": [
    "if n < 10000:\n",
    "    c = np.ones(n)\n",
    "    c[sampling_set] = 70\n",
    "    draw_graph(G, pos, node_size=c, node_color=c)"
   ]
  },
  {
   "cell_type": "markdown",
   "id": "a6e5a79d",
   "metadata": {},
   "source": [
    "### Apply sampling centrality"
   ]
  },
  {
   "cell_type": "code",
   "execution_count": null,
   "id": "8ae22e67",
   "metadata": {},
   "outputs": [],
   "source": [
    "from src.gsp.metrics import sampling_centrality, z_score\n",
    "\n",
    "sc = sampling_centrality(G, nx.adjacency_matrix(G), 100, 0.2)\n",
    "z = z_score(sc)"
   ]
  },
  {
   "cell_type": "code",
   "execution_count": null,
   "id": "5f675ea2",
   "metadata": {},
   "outputs": [],
   "source": [
    "plt.scatter(range(n), sc);"
   ]
  },
  {
   "cell_type": "code",
   "execution_count": null,
   "id": "e40e50f7",
   "metadata": {},
   "outputs": [],
   "source": [
    "plt.scatter(range(n), z);"
   ]
  },
  {
   "cell_type": "code",
   "execution_count": null,
   "id": "17cb0477",
   "metadata": {},
   "outputs": [],
   "source": []
  }
 ],
 "metadata": {
  "kernelspec": {
   "display_name": "Python 3 (ipykernel)",
   "language": "python",
   "name": "python3"
  },
  "language_info": {
   "codemirror_mode": {
    "name": "ipython",
    "version": 3
   },
   "file_extension": ".py",
   "mimetype": "text/x-python",
   "name": "python",
   "nbconvert_exporter": "python",
   "pygments_lexer": "ipython3",
   "version": "3.8.5"
  }
 },
 "nbformat": 4,
 "nbformat_minor": 5
}
