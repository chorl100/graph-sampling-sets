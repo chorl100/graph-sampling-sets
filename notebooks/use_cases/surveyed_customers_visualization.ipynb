{
 "cells": [
  {
   "cell_type": "markdown",
   "id": "14a41a52",
   "metadata": {},
   "source": [
    "# Visualization of surveyed customers in a customer graph"
   ]
  },
  {
   "cell_type": "markdown",
   "id": "ddd1aaa6",
   "metadata": {},
   "source": [
    "## Setup"
   ]
  },
  {
   "cell_type": "code",
   "execution_count": null,
   "id": "c5b1fb8c",
   "metadata": {},
   "outputs": [],
   "source": [
    "import sys\n",
    "PROJECT_PATH = \"/home/christopher_orlowicz1_vodafone_c/gershgorin\"\n",
    "sys.path.append(PROJECT_PATH)\n",
    "%load_ext autoreload\n",
    "%autoreload 2"
   ]
  },
  {
   "cell_type": "code",
   "execution_count": null,
   "id": "6fa03896",
   "metadata": {},
   "outputs": [],
   "source": [
    "%cd $PROJECT_PATH"
   ]
  },
  {
   "cell_type": "code",
   "execution_count": null,
   "id": "4e755e50",
   "metadata": {},
   "outputs": [],
   "source": [
    "#!pip install -q -r requirements.txt\n",
    "#!pip install faiss-cpu==1.7.1\n",
    "#!pip install faiss-gpu==1.7.1\n",
    "#!pip install mpire==2.6.0"
   ]
  },
  {
   "cell_type": "code",
   "execution_count": null,
   "id": "0b77e3e8",
   "metadata": {},
   "outputs": [],
   "source": [
    "import time\n",
    "\n",
    "import matplotlib.pyplot as plt\n",
    "%config InlineBackend.figure_format = \"retina\"\n",
    "import networkx as nx\n",
    "import numpy as np\n",
    "import pandas as pd\n",
    "import scipy\n",
    "from sklearn.neighbors import kneighbors_graph\n",
    "import torch\n",
    "\n",
    "import src.db.big_query as bq\n",
    "from src.db.preprocessing import Preprocessor\n",
    "from src.db.zip_code_mapper import ZipCodeMapper\n",
    "from src.gershgorin.bs_gda import bs_gda\n",
    "from src.graph.graph import Graph\n",
    "from src.graph import metrics\n",
    "from src.graph import sample_evaluation\n",
    "from src.graph.nearest_neighbors import NearestNeighbors\n",
    "import src.utils.plotting as util_plt\n",
    "from src.utils import layout"
   ]
  },
  {
   "cell_type": "markdown",
   "id": "47c70b5e",
   "metadata": {},
   "source": [
    "## Build customer graph"
   ]
  },
  {
   "cell_type": "markdown",
   "id": "57e2b1b8",
   "metadata": {},
   "source": [
    "### Load the data\n",
    "\n",
    "Earliest possible date is **2021-12-09** (occurence of first `answer_value`s in NPS table)."
   ]
  },
  {
   "cell_type": "code",
   "execution_count": null,
   "id": "d8bc26f1",
   "metadata": {},
   "outputs": [],
   "source": [
    "from_date = \"2023-01-01\"\n",
    "to_date = \"2023-01-30\""
   ]
  },
  {
   "cell_type": "code",
   "execution_count": null,
   "id": "f53f6f60",
   "metadata": {},
   "outputs": [],
   "source": [
    "# load a random sample of the CAR data\n",
    "car_extra_df = bq.car_query_timeframe_sample(from_date, to_date, limit=1000)\n",
    "# load all available feedback scores\n",
    "car_gt_df = bq.join_car_nps(from_date, to_date)\n",
    "# concatenate both DataFrames\n",
    "union = pd.concat([car_extra_df, car_gt_df]).reset_index(drop=True)"
   ]
  },
  {
   "cell_type": "code",
   "execution_count": null,
   "id": "fb746f55",
   "metadata": {},
   "outputs": [],
   "source": [
    "car_extra_df.shape, car_gt_df.shape, union.shape"
   ]
  },
  {
   "cell_type": "markdown",
   "id": "4c49a010",
   "metadata": {},
   "source": [
    "### Preprocessing"
   ]
  },
  {
   "cell_type": "markdown",
   "id": "c67b23dc",
   "metadata": {},
   "source": [
    "#### Removing unused features"
   ]
  },
  {
   "cell_type": "code",
   "execution_count": null,
   "id": "61dffb22",
   "metadata": {},
   "outputs": [],
   "source": [
    "prep = Preprocessor(from_date, to_date, data=None, verbose=False)\n",
    "car_df, client_ids, adr_zips = prep.car_df, prep.client_ids, prep.adr_zips"
   ]
  },
  {
   "cell_type": "markdown",
   "id": "16c980df",
   "metadata": {},
   "source": [
    "#### Removing unknown zip codes"
   ]
  },
  {
   "cell_type": "code",
   "execution_count": null,
   "id": "4191cb9f",
   "metadata": {},
   "outputs": [],
   "source": [
    "# load mapper for zip_code -> (longitude, latitude)\n",
    "zip_mapper = ZipCodeMapper()"
   ]
  },
  {
   "cell_type": "code",
   "execution_count": null,
   "id": "95dc4d9e",
   "metadata": {},
   "outputs": [],
   "source": [
    "# load zip codes of customers\n",
    "adr_zip_df = pd.DataFrame(adr_zips, dtype=int)\n",
    "# remove unknown (unmappable) zip codes\n",
    "known_zips = adr_zip_df.adr_zip.isin(zip_mapper.zip_code_map.index)\n",
    "#print(adr_zips.loc[~known_zips])\n",
    "# apply mask to all three Dataframes\n",
    "adr_zips = adr_zip_df.loc[known_zips].reset_index(drop=True)\n",
    "car_df = car_df[known_zips].reset_index(drop=True)\n",
    "client_ids = client_ids[known_zips].reset_index(drop=True)\n",
    "car_df.shape"
   ]
  },
  {
   "cell_type": "markdown",
   "id": "ab9605de",
   "metadata": {},
   "source": [
    "#### Mapping zip codes to (long, lat) pairs"
   ]
  },
  {
   "cell_type": "code",
   "execution_count": null,
   "id": "d87e1cc7",
   "metadata": {},
   "outputs": [],
   "source": [
    "# map zip code to coords\n",
    "coords = zip_mapper.map_zip_codes_to_coords(adr_zips)\n",
    "# remove zip codes, keep lat and long\n",
    "coords.drop(columns=\"adr_zip\", inplace=True)"
   ]
  },
  {
   "cell_type": "markdown",
   "id": "4e45cea9",
   "metadata": {},
   "source": [
    "### Graph construction"
   ]
  },
  {
   "cell_type": "code",
   "execution_count": null,
   "id": "3bcaff88",
   "metadata": {},
   "outputs": [],
   "source": [
    "import faiss\n",
    "\n",
    "def knn_multi_gpu(X, k):\n",
    "    X = X.cpu()\n",
    "    # create a flat CPU index\n",
    "    cpu_index = faiss.IndexFlatL2(X.shape[1])\n",
    "    # map the index to all available GPUs\n",
    "    gpu_index = faiss.index_cpu_to_all_gpus(cpu_index)\n",
    "    # add the data to the index\n",
    "    gpu_index.add(X)\n",
    "    # compute the k-nearest neighbor indices\n",
    "    distances, neighbor_indices = gpu_index.search(X, k)\n",
    "    return distances, neighbor_indices"
   ]
  },
  {
   "cell_type": "code",
   "execution_count": null,
   "id": "499a4a10",
   "metadata": {},
   "outputs": [],
   "source": [
    "# store data as tensor on GPU\n",
    "X = torch.tensor(np.ascontiguousarray(car_df.to_numpy()), device=torch.device('cuda', 0), dtype=torch.float32)\n",
    "# compute k-nearest neighbor graph\n",
    "knn = NearestNeighbors(device=\"gpu\")\n",
    "t = time.perf_counter()\n",
    "#_, k_neighbors = knn.knn(X, k=100)\n",
    "_, k_neighbors = knn_multi_gpu(X, k=100)\n",
    "print(f\"This took {time.perf_counter()-t:.3f} s\")"
   ]
  },
  {
   "cell_type": "code",
   "execution_count": null,
   "id": "5a2c0ddc",
   "metadata": {},
   "outputs": [],
   "source": [
    "# build adjacency matrix from neighborhood index\n",
    "A = knn.to_adj_matrix(k_neighbors)\n",
    "n_nodes = A.shape[0]"
   ]
  },
  {
   "cell_type": "code",
   "execution_count": null,
   "id": "937fd691",
   "metadata": {},
   "outputs": [],
   "source": [
    "# directed graph: count_nonzero(A) >= n_edges >= count_nonzero(A)/2\n",
    "# undirected graph: count_nonzero(A)/2 = n_edges\n",
    "n_edges = A.getnnz()\n",
    "metrics.density(n_nodes, n_edges, mode=\"directed\")"
   ]
  },
  {
   "cell_type": "markdown",
   "id": "87f3a01e",
   "metadata": {},
   "source": [
    "## Draw graph and highlight surveyed customers"
   ]
  },
  {
   "cell_type": "code",
   "execution_count": null,
   "id": "45df91b2",
   "metadata": {},
   "outputs": [],
   "source": [
    "surveyed_customers = car_gt_df.client_id\n",
    "# map all client ids to node ids\n",
    "actual_sample = np.flatnonzero(client_ids.isin(surveyed_customers))"
   ]
  },
  {
   "cell_type": "code",
   "execution_count": null,
   "id": "bdc60648",
   "metadata": {},
   "outputs": [],
   "source": [
    "# use geographical coordinates of customers for graph layout\n",
    "fixed_zip_pos = coords.to_dict(\"index\")\n",
    "# map dict of dicts to dict of tuples\n",
    "fixed_zip_pos = {key: (values[\"long\"], values[\"lat\"]) for key, values in fixed_zip_pos.items()}\n",
    "# scatter customers in a circle around their address\n",
    "pos = layout.circular_layout_around_zip_codes(fixed_zip_pos, radius=0.1)"
   ]
  },
  {
   "cell_type": "code",
   "execution_count": null,
   "id": "72ab36ae",
   "metadata": {},
   "outputs": [],
   "source": [
    "def scatter_graph(pos, node_size=10, node_color=None, figsize=(6, 6), title=None, cmap=plt.cm.viridis, filepath=None):\n",
    "    x = np.array([x for x, y in pos.values()])\n",
    "    y = np.array([y for x, y in pos.values()])\n",
    "    plt.figure(figsize=figsize)\n",
    "    sampled = node_color > 0\n",
    "    # scatter not sampled nodes first\n",
    "    plt.scatter(x[~sampled], y[~sampled], s=node_size, c='dimgrey', cmap=cmap)\n",
    "    # then scatter sampled nodes\n",
    "    plt.scatter(x[sampled], y[sampled], s=node_size, c='#E60000', cmap=cmap)\n",
    "    plt.axis(\"off\")\n",
    "    if title is not None:\n",
    "        plt.title(title)\n",
    "    if filepath is not None:\n",
    "        plt.savefig(filepath, dpi=300)"
   ]
  },
  {
   "cell_type": "code",
   "execution_count": null,
   "id": "06252498",
   "metadata": {},
   "outputs": [],
   "source": [
    "# plot customers\n",
    "scatter_graph(pos, node_size=5, node_color=util_plt.sample_to_node_color_vec(n_nodes, actual_sample), \n",
    "              filepath=\"graph_true_samples_8000000.png\")"
   ]
  },
  {
   "cell_type": "code",
   "execution_count": null,
   "id": "5cd3cbb4",
   "metadata": {},
   "outputs": [],
   "source": []
  }
 ],
 "metadata": {
  "finalized": {
   "timestamp": 1677684408943,
   "trusted": true
  },
  "kernelspec": {
   "display_name": "Python 3",
   "language": "python",
   "name": "python3"
  },
  "language_info": {
   "codemirror_mode": {
    "name": "ipython",
    "version": 3
   },
   "file_extension": ".py",
   "mimetype": "text/x-python",
   "name": "python",
   "nbconvert_exporter": "python",
   "pygments_lexer": "ipython3",
   "version": "3.6.13"
  }
 },
 "nbformat": 4,
 "nbformat_minor": 5
}
