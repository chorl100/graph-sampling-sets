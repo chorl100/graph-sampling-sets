{
 "cells": [
  {
   "cell_type": "markdown",
   "id": "d008945c",
   "metadata": {},
   "source": [
    "# Experiment: How good was the selection of contacted customers compared to a computed sampling set?"
   ]
  },
  {
   "cell_type": "markdown",
   "id": "fb12ede4",
   "metadata": {},
   "source": [
    "## Setup"
   ]
  },
  {
   "cell_type": "code",
   "execution_count": null,
   "id": "d5af653b",
   "metadata": {},
   "outputs": [],
   "source": [
    "import sys\n",
    "PROJECT_PATH = \"/home/christopher_orlowicz1_vodafone_c/gershgorin\"\n",
    "sys.path.append(PROJECT_PATH)\n",
    "%load_ext autoreload\n",
    "%autoreload 2"
   ]
  },
  {
   "cell_type": "code",
   "execution_count": null,
   "id": "35f1ee68",
   "metadata": {},
   "outputs": [],
   "source": [
    "%cd $PROJECT_PATH"
   ]
  },
  {
   "cell_type": "code",
   "execution_count": null,
   "id": "0dae6170",
   "metadata": {},
   "outputs": [],
   "source": [
    "#!pip install -q -r requirements.txt\n",
    "#!pip install faiss-cpu==1.7.1\n",
    "#!pip install faiss-gpu==1.7.1"
   ]
  },
  {
   "cell_type": "code",
   "execution_count": null,
   "id": "31cead38",
   "metadata": {},
   "outputs": [],
   "source": [
    "import time\n",
    "\n",
    "from google.cloud import bigquery\n",
    "import matplotlib.pyplot as plt\n",
    "%config InlineBackend.figure_format = \"retina\"\n",
    "import networkx as nx\n",
    "import numpy as np\n",
    "import pandas as pd\n",
    "import pandas_gbq\n",
    "import scipy\n",
    "from sklearn.neighbors import kneighbors_graph\n",
    "\n",
    "import src.db.big_query as bq\n",
    "from src.db.preprocessing import Preprocessor\n",
    "from src.db.zip_code_mapper import ZipCodeMapper\n",
    "from src.gershgorin.bs_gda import bs_gda\n",
    "from src.graph.graph import Graph\n",
    "from src.graph import metrics\n",
    "from src.graph import sample_evaluation\n",
    "from src.graph.nearest_neighbors import NearestNeighbors\n",
    "import src.utils.plotting as util_plt"
   ]
  },
  {
   "cell_type": "markdown",
   "id": "7bd7e1f4",
   "metadata": {},
   "source": [
    "## Build customer graph"
   ]
  },
  {
   "cell_type": "markdown",
   "id": "75a7c863",
   "metadata": {},
   "source": [
    "### Load the data\n",
    "\n",
    "Earliest possible date is **2021-12-09** (occurence of first `answer_value`s in NPS table)."
   ]
  },
  {
   "cell_type": "code",
   "execution_count": null,
   "id": "70fd4ae7",
   "metadata": {},
   "outputs": [],
   "source": [
    "from_date = \"2022-11-01\"\n",
    "to_date = \"2022-11-30\""
   ]
  },
  {
   "cell_type": "code",
   "execution_count": null,
   "id": "d9d8ad06",
   "metadata": {},
   "outputs": [],
   "source": [
    "# load a random sample of the CAR data\n",
    "car_extra_df = bq.car_query_timeframe_sample(from_date, to_date, limit=1000)\n",
    "# load all available feedback scores\n",
    "car_gt_df = bq.join_car_nps(from_date, to_date)\n",
    "# concatenate both DataFrames\n",
    "union = pd.concat([car_extra_df, car_gt_df]).reset_index(drop=True)"
   ]
  },
  {
   "cell_type": "code",
   "execution_count": null,
   "id": "38d15314",
   "metadata": {},
   "outputs": [],
   "source": [
    "car_extra_df.shape, car_gt_df.shape, union.shape"
   ]
  },
  {
   "cell_type": "markdown",
   "id": "ea617381",
   "metadata": {},
   "source": [
    "### Preprocessing"
   ]
  },
  {
   "cell_type": "markdown",
   "id": "2a0edebc",
   "metadata": {},
   "source": [
    "#### Removing unused features"
   ]
  },
  {
   "cell_type": "code",
   "execution_count": null,
   "id": "d5351b72",
   "metadata": {},
   "outputs": [],
   "source": [
    "prep = Preprocessor(from_date, to_date, data=None, verbose=False)\n",
    "car_df, client_ids, adr_zips = prep.car_df, prep.client_ids, prep.adr_zips"
   ]
  },
  {
   "cell_type": "markdown",
   "id": "85a909db",
   "metadata": {},
   "source": [
    "#### Removing unknown zip codes"
   ]
  },
  {
   "cell_type": "code",
   "execution_count": null,
   "id": "8ee63ef9",
   "metadata": {},
   "outputs": [],
   "source": [
    "# load mapper for zip_code -> (longitude, latitude)\n",
    "zip_mapper = ZipCodeMapper()"
   ]
  },
  {
   "cell_type": "code",
   "execution_count": null,
   "id": "f53e6bea",
   "metadata": {},
   "outputs": [],
   "source": [
    "# load zip codes of customers\n",
    "adr_zip_df = pd.DataFrame(adr_zips, dtype=int)\n",
    "# remove unknown (unmappable) zip codes\n",
    "known_zips = adr_zip_df.adr_zip.isin(zip_mapper.zip_code_map.index)\n",
    "# apply mask to all three Dataframes\n",
    "adr_zips = adr_zip_df.loc[known_zips].reset_index(drop=True)\n",
    "car_df = car_df[known_zips].reset_index(drop=True)\n",
    "client_ids = client_ids[known_zips].reset_index(drop=True)\n",
    "car_df.shape"
   ]
  },
  {
   "cell_type": "markdown",
   "id": "6f543c10",
   "metadata": {},
   "source": [
    "#### Mapping zip codes to (long, lat) pairs"
   ]
  },
  {
   "cell_type": "code",
   "execution_count": null,
   "id": "2a2b5b0c",
   "metadata": {},
   "outputs": [],
   "source": [
    "# map zip code to coords\n",
    "coords = zip_mapper.map_zip_codes_to_coords(adr_zip)\n",
    "# remove zip codes, keep lat and long\n",
    "coords.drop(columns=\"adr_zip\", inplace=True)"
   ]
  },
  {
   "cell_type": "markdown",
   "id": "908ce8cd",
   "metadata": {},
   "source": [
    "### Graph construction"
   ]
  },
  {
   "cell_type": "code",
   "execution_count": null,
   "id": "006424be",
   "metadata": {},
   "outputs": [],
   "source": [
    "import gc\n",
    "from numba import cuda\n",
    "\n",
    "gc.collect()\n",
    "cuda.select_device(0)\n",
    "cuda.close()"
   ]
  },
  {
   "cell_type": "code",
   "execution_count": null,
   "id": "93dfc970",
   "metadata": {},
   "outputs": [],
   "source": [
    "# store data as tensor on GPU\n",
    "X = torch.tensor(np.ascontiguousarray(car_df.to_numpy()), device=torch.device('cuda', 0), dtype=torch.float32)\n",
    "# compute k-nearest neighbor graph\n",
    "knn = NearestNeighbors(device=\"gpu\")\n",
    "t = time.perf_counter()\n",
    "_, k_neighbors = knn.knn(X, k=100)\n",
    "print(f\"This took {time.perf_counter()-t:.3f} s\")"
   ]
  },
  {
   "cell_type": "code",
   "execution_count": null,
   "id": "2d8ed88d",
   "metadata": {},
   "outputs": [],
   "source": [
    "A = knn.to_adj_matrix(k_neighbors)\n",
    "n_nodes = A.shape[0]"
   ]
  },
  {
   "cell_type": "code",
   "execution_count": null,
   "id": "24cb7017",
   "metadata": {},
   "outputs": [],
   "source": [
    "# directed graph: count_nonzero(A) >= n_edges >= count_nonzero(A)/2\n",
    "# undirected graph: count_nonzero(A)/2 = n_edges\n",
    "n_edges = A.getnnz()\n",
    "metrics.density(n_nodes, n_edges, mode=\"directed\")"
   ]
  },
  {
   "cell_type": "markdown",
   "id": "2ae69452",
   "metadata": {},
   "source": [
    "## Draw graph and highlight actually sampled nodes (\"ground truth\")"
   ]
  },
  {
   "cell_type": "code",
   "execution_count": null,
   "id": "f1f872bf",
   "metadata": {},
   "outputs": [],
   "source": [
    "actual_sampling_set = car_gt_df.client_id\n",
    "# map all client ids to node ids\n",
    "actual_set = np.flatnonzero(client_ids.isin(actual_sampling_set))"
   ]
  },
  {
   "cell_type": "code",
   "execution_count": null,
   "id": "c04897cd",
   "metadata": {},
   "outputs": [],
   "source": [
    "# use different node colors for each sampling set\n",
    "colors, labels = sample_evaluation.prepare_colors_labels(n_nodes, [], actual_set)"
   ]
  },
  {
   "cell_type": "code",
   "execution_count": null,
   "id": "5ededcf4",
   "metadata": {},
   "outputs": [],
   "source": [
    "# use geographical coordinates of customers for graph layout\n",
    "fixed_zip_pos = coords.to_dict(\"index\")\n",
    "# map dict of dicts to dict of tuples\n",
    "fixed_zip_pos = {key: (values[\"long\"], values[\"lat\"]) for key, values in fixed_zip_pos.items()}"
   ]
  },
  {
   "cell_type": "code",
   "execution_count": null,
   "id": "2c4232e5",
   "metadata": {},
   "outputs": [],
   "source": [
    "def circular_layout_around_zip_codes(fixed_zip_pos: dict, radius: float = 0.2):\n",
    "    pos = dict()\n",
    "    for node, coord in fixed_zip_pos.items():\n",
    "        x, y = coord\n",
    "        rand_x, rand_y = np.random.rand(2)\n",
    "        pos[node] = [x + radius*np.cos(rand_x*2*np.pi), y + radius*np.sin(rand_y*2*np.pi)]\n",
    "    return pos"
   ]
  },
  {
   "cell_type": "code",
   "execution_count": null,
   "id": "f25c1c50",
   "metadata": {},
   "outputs": [],
   "source": [
    "pos = circular_layout_around_zip_codes(fixed_zip_pos, radius=0.1)"
   ]
  },
  {
   "cell_type": "code",
   "execution_count": null,
   "id": "d8860be7",
   "metadata": {},
   "outputs": [],
   "source": [
    "x = [x for x, y in pos.values()]\n",
    "y = [y for x, y in pos.values()]\n",
    "c = np.zeros(car_df.shape[0])\n",
    "c[colors[2]] = 1\n",
    "plt.figure(figsize=(10,10))\n",
    "plt.scatter(x, y, s=5, c=c, cmap=plt.cm.copper)\n",
    "plt.axis(\"off\");\n",
    "plt.savefig(\"graph_true_samples_2000000.png\", dpi=300)"
   ]
  },
  {
   "cell_type": "code",
   "execution_count": null,
   "id": "8cbf0cd4",
   "metadata": {},
   "outputs": [],
   "source": [
    "# construct a networkx graph from the adjacency matrix\n",
    "t = time.perf_counter()\n",
    "#nx_graph = nx.from_scipy_sparse_matrix(A)\n",
    "print(f\"This took {time.perf_counter()-t:.3f} s\")"
   ]
  },
  {
   "cell_type": "code",
   "execution_count": null,
   "id": "7d0c9d57",
   "metadata": {},
   "outputs": [],
   "source": [
    "sample_evaluation.plot_sample_classes(nx_graph, colors, labels, size=10, \n",
    "                                      pos=pos, subgraph=True, select=[2], hide_edges=True, \n",
    "                                      figsize=(8,8))\n",
    "plt.savefig(\"graph_true_samples_1000000.png\", dpi=300)"
   ]
  },
  {
   "cell_type": "markdown",
   "id": "7f5d2333",
   "metadata": {},
   "source": [
    "## Compute sampling set"
   ]
  },
  {
   "cell_type": "code",
   "execution_count": null,
   "id": "a8d1196e",
   "metadata": {},
   "outputs": [],
   "source": [
    "#sampling_budget = 1000\n",
    "sampling_budget = len(car_gt_df)\n",
    "graph = Graph(A)\n",
    "start = time.perf_counter()\n",
    "sampling_set, thres = bs_gda(graph, sampling_budget, p_hops=6, parallel=True)\n",
    "print(f\"This took {time.perf_counter()-start:.3f} s\")\n",
    "print(\"Budget:\", sampling_budget)\n",
    "print(\"Sampled nodes:\", len(sampling_set))"
   ]
  },
  {
   "cell_type": "markdown",
   "id": "77280226",
   "metadata": {},
   "source": [
    "## Evaluate the result"
   ]
  },
  {
   "cell_type": "markdown",
   "id": "b6a6e370",
   "metadata": {},
   "source": [
    "### Get predicted and actually sampled customer ids"
   ]
  },
  {
   "cell_type": "code",
   "execution_count": null,
   "id": "0e331934",
   "metadata": {},
   "outputs": [],
   "source": [
    "pred_sampling_set = client_ids[sampling_set]  # map node_id to client_id\n",
    "actual_sampling_set = car_gt_df.client_id"
   ]
  },
  {
   "cell_type": "code",
   "execution_count": null,
   "id": "51ad77b4",
   "metadata": {},
   "outputs": [],
   "source": [
    "# map all client ids to node ids\n",
    "actual_set = np.flatnonzero(client_ids.isin(actual_sampling_set))\n",
    "intersect_set = list(set(sampling_set) & set(actual_set))"
   ]
  },
  {
   "cell_type": "markdown",
   "id": "bba6b011",
   "metadata": {},
   "source": [
    "#### Statistics"
   ]
  },
  {
   "cell_type": "code",
   "execution_count": null,
   "id": "1157fb25",
   "metadata": {},
   "outputs": [],
   "source": [
    "print(\"Predicted samples:\", len(pred_sampling_set))\n",
    "print(\"Actually sampled:\", len(actual_sampling_set))\n",
    "print(\"Overlap:\", len(intersect_set), f\"({len(intersect_set)/len(actual_sampling_set)*100:.3f} % of all surveyed customers)\")"
   ]
  },
  {
   "cell_type": "markdown",
   "id": "e4ccf5c3",
   "metadata": {},
   "source": [
    "## Draw the network\n",
    "\n",
    "Use a different node color per sample."
   ]
  },
  {
   "cell_type": "code",
   "execution_count": null,
   "id": "780cc0a7",
   "metadata": {},
   "outputs": [],
   "source": [
    "# construct an networkx graph from the adjacency matrix\n",
    "nx_graph = nx.from_scipy_sparse_array(graph.adj)\n",
    "# precompute a graph layout for plotting\n",
    "pos = nx.spring_layout(nx_graph, iterations=15)"
   ]
  },
  {
   "cell_type": "code",
   "execution_count": null,
   "id": "adb2bfed",
   "metadata": {},
   "outputs": [],
   "source": [
    "colors, labels = sample_evaluation.prepare_colors_labels(n_nodes, sampling_set, actual_set)"
   ]
  },
  {
   "cell_type": "markdown",
   "id": "64cf0081",
   "metadata": {},
   "source": [
    "#### Whole graph"
   ]
  },
  {
   "cell_type": "code",
   "execution_count": null,
   "id": "ade6443f",
   "metadata": {},
   "outputs": [],
   "source": [
    "sample_evaluation.plot_sample_classes(nx_graph, colors, labels, size=20, \n",
    "                                      pos=pos, subgraph=False, hide_edges=True, figsize=(8,8))\n",
    "plt.savefig(\"graph_with_samples.png\", dpi=300)"
   ]
  },
  {
   "cell_type": "markdown",
   "id": "3809de2d",
   "metadata": {},
   "source": [
    "#### Specific sample in whole graph"
   ]
  },
  {
   "cell_type": "code",
   "execution_count": null,
   "id": "4681abe8",
   "metadata": {},
   "outputs": [],
   "source": [
    "sample_evaluation.plot_sample_classes(nx_graph, colors, labels, size=20, \n",
    "                                      pos=pos, subgraph=True, select=[2], hide_edges=True, \n",
    "                                      figsize=(8,8))\n",
    "plt.savefig(\"subgraph.png\", dpi=300)"
   ]
  },
  {
   "cell_type": "markdown",
   "id": "bd573a54",
   "metadata": {},
   "source": [
    "#### Subgraphs"
   ]
  },
  {
   "cell_type": "code",
   "execution_count": null,
   "id": "9283906e",
   "metadata": {},
   "outputs": [],
   "source": [
    "#util_plt.draw_subgraph(nx_graph, sampling_set)"
   ]
  },
  {
   "cell_type": "code",
   "execution_count": null,
   "id": "411045f8",
   "metadata": {},
   "outputs": [],
   "source": [
    "#util_plt.draw_subgraph(nx_graph, actual_set)"
   ]
  },
  {
   "cell_type": "code",
   "execution_count": null,
   "id": "87fe2169",
   "metadata": {},
   "outputs": [],
   "source": [
    "#util_plt.draw_subgraph(nx_graph, intersect_set)"
   ]
  },
  {
   "cell_type": "markdown",
   "id": "f1cb33b1",
   "metadata": {},
   "source": [
    "### Compute smallest eigenvalue of coefficient matrix"
   ]
  },
  {
   "cell_type": "code",
   "execution_count": null,
   "id": "95f8e890",
   "metadata": {},
   "outputs": [],
   "source": [
    "def compute_exact(L, sampling_set, mu=0.01):\n",
    "    n_nodes = L.shape[0]\n",
    "    a = np.zeros(n_nodes, dtype=bool)\n",
    "    a[list(sampling_set)] = 1\n",
    "    B = np.diag(a) + mu * L\n",
    "    B = sparse.csc_matrix(B)\n",
    "    se, _ = sparse.linalg.eigsh(B, k=1, which='SM')\n",
    "    return se"
   ]
  },
  {
   "cell_type": "code",
   "execution_count": null,
   "id": "30b8a5c0",
   "metadata": {},
   "outputs": [],
   "source": [
    "# compare smallest eigenvalues\n",
    "lap = graph.laplacian()\n",
    "smallest_eig_actual = compute_exact(lap, actual_set)\n",
    "print(f\"smallest eigenvalue via eigen-decomposition: {smallest_eig_actual[0]}\\n\")\n",
    "\n",
    "smallest_eig_pred = compute_exact(lap, sampling_set)\n",
    "print(f\"smallest eigenvalue via eigen-decomposition: {smallest_eig_pred[0]}\\n\")\n",
    "\n",
    "print(\"Estimated threshold:\", thres)"
   ]
  },
  {
   "cell_type": "markdown",
   "id": "abdcdc85",
   "metadata": {},
   "source": [
    "### Compare MSE"
   ]
  },
  {
   "cell_type": "code",
   "execution_count": null,
   "id": "c96ef2d3",
   "metadata": {},
   "outputs": [],
   "source": [
    "# read recommendation scores\n",
    "answers_df = bq.nps_query_timeframe(from_date, to_date)\n",
    "# build ground truth signal by removing answers that cannot be assigned to a customer in CAR\n",
    "s = answers_df.copy()\n",
    "s = s[s.client_id.isin(client_ids)]"
   ]
  },
  {
   "cell_type": "code",
   "execution_count": null,
   "id": "4f8af9a3",
   "metadata": {},
   "outputs": [],
   "source": [
    "def reconstruction_matrix(L, sampling_set: list, mu=0.01):\n",
    "    n_nodes = L.shape[0]\n",
    "    # sampling matrix\n",
    "    a = np.zeros(n_nodes, dtype=bool)\n",
    "    a[list(sampling_set)] = 1\n",
    "    # coefficient matrix\n",
    "    B = np.diag(a) + mu * L\n",
    "    B = sparse.csc_matrix(B)\n",
    "    I = np.eye(n_nodes)\n",
    "    # reconstruction matrix\n",
    "    reconstr_mat = I - mu * sparse.linalg.inv(B) @ L\n",
    "    return reconstr_mat\n",
    "\n",
    "def reconstruct_signal(reconstr_matrix, s):\n",
    "    return reconstr_matrix @ s.reshape(-1, 1)\n",
    "\n",
    "def mse(a, b):\n",
    "    return np.mean(np.square(a-b))"
   ]
  },
  {
   "cell_type": "code",
   "execution_count": null,
   "id": "89e2634d",
   "metadata": {},
   "outputs": [],
   "source": [
    "L = graph.laplacian()\n",
    "rec_mat_pred = reconstruction_matrix(L, sampling_set)\n",
    "s_reconst = reconstruct_signal(rec_mat_pred, s)\n",
    "print(\"MSE sampling set:\", mse(s, s_reconst))\n",
    "\n",
    "rec_mat_actual = reconstruction_matrix(L, actual_set)\n",
    "s_reconst = reconstruct_signal(rec_mat_actual, s)\n",
    "print(\"MSE actual set:\", mse(s, s_reconst))"
   ]
  },
  {
   "cell_type": "markdown",
   "id": "7cf27bce",
   "metadata": {},
   "source": [
    "### Investigate neighborhood of sampled nodes"
   ]
  },
  {
   "cell_type": "code",
   "execution_count": null,
   "id": "0f37f9e1",
   "metadata": {},
   "outputs": [],
   "source": [
    "def neighborhood(graph, sampling_set, actual_set, max_hops=12):\n",
    "    \"\"\"\n",
    "    How large do we have to choose the neighborhood of the actually sampled nodes \n",
    "    to cover all nodes of the predicted sampling set?\n",
    "    \"\"\"\n",
    "    n_nodes = len(graph.nodes)\n",
    "    # mark actually sampled nodes as uncovered\n",
    "    uncovered = np.zeros(n_nodes, dtype=bool)\n",
    "    uncovered[actual_set] = 1\n",
    "    depths = range(1, max_hops+1)\n",
    "    for depth in depths:\n",
    "        for node in sampling_set:\n",
    "            # do a limited BFS\n",
    "            neighborhood = list(nx.bfs_tree(graph, node, depth_limit=depth).nodes())\n",
    "            # mark visited nodes\n",
    "            uncovered[neighborhood] = 0\n",
    "        if not any(uncovered):\n",
    "            # if all nodes in actual_set are covered, return the current depth\n",
    "            return depth\n",
    "    # if not all nodes were covered, return -1\n",
    "    return -1"
   ]
  },
  {
   "cell_type": "code",
   "execution_count": null,
   "id": "9bf86f3f",
   "metadata": {},
   "outputs": [],
   "source": [
    "neighborhood(nx_graph, sampling_set, actual_set, max_hops=5)"
   ]
  },
  {
   "cell_type": "code",
   "execution_count": null,
   "id": "3ca0b558",
   "metadata": {},
   "outputs": [],
   "source": []
  }
 ],
 "metadata": {
  "finalized": {
   "timestamp": 1677684408943,
   "trusted": true
  },
  "kernelspec": {
   "display_name": "Python 3",
   "language": "python",
   "name": "python3"
  },
  "language_info": {
   "codemirror_mode": {
    "name": "ipython",
    "version": 3
   },
   "file_extension": ".py",
   "mimetype": "text/x-python",
   "name": "python",
   "nbconvert_exporter": "python",
   "pygments_lexer": "ipython3",
   "version": "3.6.13"
  }
 },
 "nbformat": 4,
 "nbformat_minor": 5
}
