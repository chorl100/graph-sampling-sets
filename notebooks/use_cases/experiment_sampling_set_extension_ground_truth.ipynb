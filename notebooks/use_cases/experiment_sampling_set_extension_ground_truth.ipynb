{
 "cells": [
  {
   "cell_type": "markdown",
   "id": "16e4536a",
   "metadata": {},
   "source": [
    "# Experiment: Sampling Set Extension"
   ]
  },
  {
   "cell_type": "markdown",
   "id": "82fb3662",
   "metadata": {},
   "source": [
    "## Setup"
   ]
  },
  {
   "cell_type": "code",
   "execution_count": null,
   "id": "5af60e85",
   "metadata": {},
   "outputs": [],
   "source": [
    "import sys\n",
    "PROJECT_PATH = \"/home/christopher_orlowicz1_vodafone_c/gershgorin\"\n",
    "sys.path.append(PROJECT_PATH)\n",
    "%cd $PROJECT_PATH\n",
    "\n",
    "%load_ext autoreload\n",
    "%autoreload 2"
   ]
  },
  {
   "cell_type": "code",
   "execution_count": null,
   "id": "b3a9ed5d",
   "metadata": {},
   "outputs": [],
   "source": [
    "#!pip install -r requirements.txt\n",
    "#!pip install --force-reinstall faiss-cpu==1.7.2\n",
    "#!pip install --force-reinstall faiss-gpu==1.7.2"
   ]
  },
  {
   "cell_type": "code",
   "execution_count": null,
   "id": "f58e21c8",
   "metadata": {},
   "outputs": [],
   "source": [
    "import time\n",
    "\n",
    "import matplotlib.pyplot as plt\n",
    "%config InlineBackend.figure_format = \"retina\"\n",
    "import networkx as nx\n",
    "import numpy as np\n",
    "import pandas as pd\n",
    "import scipy\n",
    "from sklearn.neighbors import kneighbors_graph\n",
    "import torch\n",
    "\n",
    "import src.db.big_query as bq\n",
    "from src.db.preprocessing import Preprocessor\n",
    "from src.db.zip_code_mapper import ZipCodeMapper\n",
    "from src.gershgorin.bs_gda import bs_gda, bs_gda_extension\n",
    "from src.graph.graph import Graph\n",
    "from src.graph import metrics\n",
    "from src.graph import sample_evaluation\n",
    "from src.graph.nearest_neighbors import NearestNeighbors\n",
    "from src.gsp.reconstruction import reconstruct_signal, mse\n",
    "import src.utils.plotting as util_plt\n",
    "from src.utils import layout"
   ]
  },
  {
   "cell_type": "markdown",
   "id": "1e62c56c",
   "metadata": {},
   "source": [
    "## Load customer data (CAR & NPS)"
   ]
  },
  {
   "cell_type": "code",
   "execution_count": null,
   "id": "047f6028",
   "metadata": {},
   "outputs": [],
   "source": [
    "# specify a timeframe to query\n",
    "from_date = \"2023-01-01\"\n",
    "to_date = \"2023-01-30\""
   ]
  },
  {
   "cell_type": "code",
   "execution_count": null,
   "id": "509cf13a",
   "metadata": {},
   "outputs": [],
   "source": [
    "# load the ground truth\n",
    "car_df = bq.join_car_nps(from_date, to_date)"
   ]
  },
  {
   "cell_type": "markdown",
   "id": "07836ee2",
   "metadata": {},
   "source": [
    "#### Removing unused columns"
   ]
  },
  {
   "cell_type": "code",
   "execution_count": null,
   "id": "a07f9ed9",
   "metadata": {},
   "outputs": [],
   "source": [
    "prep = Preprocessor(from_date, to_date, data=car_df, verbose=False)\n",
    "car_df, client_ids, adr_zips = prep.car_df, prep.client_ids, prep.adr_zips"
   ]
  },
  {
   "cell_type": "markdown",
   "id": "1c29de29",
   "metadata": {},
   "source": [
    "#### Take a small sample"
   ]
  },
  {
   "cell_type": "code",
   "execution_count": null,
   "id": "466e4aad",
   "metadata": {},
   "outputs": [],
   "source": [
    "sample = np.random.choice(car_df.shape[0], 2000, replace=False)\n",
    "car_df = car_df.loc[sample].reset_index(drop=True)\n",
    "client_ids = client_ids[sample].reset_index(drop=True)\n",
    "adr_zips = adr_zips[sample].reset_index(drop=True)"
   ]
  },
  {
   "cell_type": "markdown",
   "id": "b87d4455",
   "metadata": {},
   "source": [
    "#### Removing customers with unknown zip codes"
   ]
  },
  {
   "cell_type": "code",
   "execution_count": null,
   "id": "c0cc512c",
   "metadata": {},
   "outputs": [],
   "source": [
    "# load mapper for zip_code -> (longitude, latitude)\n",
    "zip_mapper = ZipCodeMapper()"
   ]
  },
  {
   "cell_type": "code",
   "execution_count": null,
   "id": "0bdbc6e8",
   "metadata": {},
   "outputs": [],
   "source": [
    "# load zip codes of customers\n",
    "adr_zip_df = pd.DataFrame(adr_zips, dtype=str)\n",
    "# remove unknown (unmappable) zip codes\n",
    "known_zips = adr_zip_df.adr_zip.isin(zip_mapper.zip_code_map.index)\n",
    "# apply mask to all three Dataframes\n",
    "adr_zips = adr_zip_df.loc[known_zips].reset_index(drop=True)\n",
    "car_df = car_df[known_zips].reset_index(drop=True)\n",
    "client_ids = client_ids[known_zips].reset_index(drop=True)"
   ]
  },
  {
   "cell_type": "code",
   "execution_count": null,
   "id": "fb2f8b9c",
   "metadata": {},
   "outputs": [],
   "source": [
    "# map zip code to coords\n",
    "coords = zip_mapper.map_zip_codes_to_coords(adr_zips)\n",
    "# remove zip codes, keep lat and long\n",
    "coords.drop(columns=\"adr_zip\", inplace=True)"
   ]
  },
  {
   "cell_type": "code",
   "execution_count": null,
   "id": "cdf441d5",
   "metadata": {},
   "outputs": [],
   "source": [
    "# read the recommendation values (NPS data) that we will use as signal\n",
    "answers_df = bq.nps_query_timeframe(from_date, to_date)\n",
    "# filter for postpaid customers in survey answers (market = 'MMC')\n",
    "answers_df = answers_df[answers_df.client_id.isin(client_ids)]"
   ]
  },
  {
   "cell_type": "markdown",
   "id": "09135f44",
   "metadata": {},
   "source": [
    "## Construct graph"
   ]
  },
  {
   "cell_type": "code",
   "execution_count": null,
   "id": "6973b4e7",
   "metadata": {
    "scrolled": true
   },
   "outputs": [],
   "source": [
    "# store data as tensor on GPU\n",
    "X = torch.tensor(np.ascontiguousarray(car_df.to_numpy()), device=torch.device('cuda', 0), dtype=torch.float32)\n",
    "# compute k-nearest neighbor graph\n",
    "knn = NearestNeighbors(device=\"gpu\")\n",
    "t = time.perf_counter()\n",
    "_, k_neighbors = knn.knn(X, k=50)\n",
    "print(f\"This took {time.perf_counter()-t:.3f} s\")"
   ]
  },
  {
   "cell_type": "code",
   "execution_count": null,
   "id": "c6ef69d7",
   "metadata": {},
   "outputs": [],
   "source": [
    "n_nodes = neighbors_idx.shape[0]\n",
    "A = sparse.lil_matrix((n_nodes, n_nodes), dtype=np.int8)\n",
    "A[range(n_nodes), neighbors_idx[range(n_nodes)]] = 1"
   ]
  },
  {
   "cell_type": "code",
   "execution_count": null,
   "id": "bcd2c33d",
   "metadata": {},
   "outputs": [],
   "source": [
    "# build adjacency matrix from neighborhood index\n",
    "A = knn.to_adj_matrix(k_neighbors)\n",
    "n_nodes = A.shape[0]"
   ]
  },
  {
   "cell_type": "code",
   "execution_count": null,
   "id": "8a39a931",
   "metadata": {},
   "outputs": [],
   "source": [
    "# directed graph: count_nonzero(A) >= n_edges >= count_nonzero(A)/2\n",
    "# undirected graph: count_nonzero(A)/2 = n_edges\n",
    "n_edges = A.getnnz()\n",
    "# compute graph density\n",
    "metrics.density(n_nodes, n_edges, mode=\"directed\")"
   ]
  },
  {
   "cell_type": "markdown",
   "id": "0b987b4c",
   "metadata": {},
   "source": [
    "## Sampling set extension"
   ]
  },
  {
   "cell_type": "markdown",
   "id": "9110d3c2",
   "metadata": {},
   "source": [
    "### Pre-select sampling set"
   ]
  },
  {
   "cell_type": "code",
   "execution_count": null,
   "id": "6e37660a",
   "metadata": {},
   "outputs": [],
   "source": [
    "#preselection = [36, 34, 54, 56]\n",
    "# pick a random set\n",
    "preselection = np.random.choice(range(n_nodes), size=20, replace=False).tolist()"
   ]
  },
  {
   "cell_type": "markdown",
   "id": "d35bc93a",
   "metadata": {},
   "source": [
    "### Extend sampling set"
   ]
  },
  {
   "cell_type": "code",
   "execution_count": null,
   "id": "7c31ae1f",
   "metadata": {},
   "outputs": [],
   "source": [
    "# specify max. number of nodes to sample\n",
    "sampling_budget = 200\n",
    "assert sampling_budget > len(preselection)\n",
    "p_hops = 12"
   ]
  },
  {
   "cell_type": "code",
   "execution_count": null,
   "id": "bfd73f86",
   "metadata": {},
   "outputs": [],
   "source": [
    "# wrap graph with adjacency list for faster neighborhood queries\n",
    "graph = Graph(A)"
   ]
  },
  {
   "cell_type": "code",
   "execution_count": null,
   "id": "071f8390",
   "metadata": {},
   "outputs": [],
   "source": [
    "start = time.perf_counter()\n",
    "sampling_set_extended, thres_extended = bs_gda_extension(graph, preselection, sampling_budget, p_hops=p_hops, parallel=True)\n",
    "print(f\"This took {time.perf_counter()-start:.3f} s\")\n",
    "print(\"Budget:\", sampling_budget)\n",
    "print(\"Sampled nodes:\", len(sampling_set_extended))"
   ]
  },
  {
   "cell_type": "code",
   "execution_count": null,
   "id": "bb7619bb",
   "metadata": {},
   "outputs": [],
   "source": [
    "#sampling_set_extended = list(np.random.choice(range(n_nodes), 100, replace=False))"
   ]
  },
  {
   "cell_type": "code",
   "execution_count": null,
   "id": "2228077f",
   "metadata": {},
   "outputs": [],
   "source": [
    "# map node_ids to client_ids\n",
    "pred_sampling_set = client_ids[sampling_set_extended]\n",
    "# which customers should be sampled in addition to the preselection?\n",
    "client_ids_to_sample = client_ids[set(sampling_set_extended) - set(preselection)]"
   ]
  },
  {
   "cell_type": "code",
   "execution_count": null,
   "id": "ded27ab9",
   "metadata": {},
   "outputs": [],
   "source": [
    "#print(\"The following clients should be sampled in addition:\\n\", client_ids_to_sample.to_numpy())"
   ]
  },
  {
   "cell_type": "markdown",
   "id": "d8a23112",
   "metadata": {},
   "source": [
    "### Evaluate results"
   ]
  },
  {
   "cell_type": "markdown",
   "id": "d0d6a9c4",
   "metadata": {},
   "source": [
    "#### Draw solution"
   ]
  },
  {
   "cell_type": "code",
   "execution_count": null,
   "id": "b5ed0ed0",
   "metadata": {},
   "outputs": [],
   "source": [
    "# compute graph layout\n",
    "# get dict of node positions\n",
    "fixed_zip_pos = layout.pos_from_coords(coords)\n",
    "# scatter customers in a circle around their zip code\n",
    "pos = layout.circular_layout_around_zip_codes(fixed_zip_pos, radius=0.1)"
   ]
  },
  {
   "cell_type": "code",
   "execution_count": null,
   "id": "477ece2e",
   "metadata": {},
   "outputs": [],
   "source": [
    "# plot preselected nodes and those that should be sampled in addition\n",
    "color_extended = util_plt.sample_to_node_color_vec(graph.num_nodes, sampling_set_extended)\n",
    "color_preselected = util_plt.sample_to_node_color_vec(graph.num_nodes, preselection)\n",
    "# color scheme: c[not_sampled] = 0, c[sampled] = 1, c[preselected] = 2\n",
    "c = color_extended + color_preselected\n",
    "util_plt.draw_graph(nx.from_scipy_sparse_matrix(A), pos, node_size=20, node_color=c, hide_edges=True, cmap=plt.cm.copper)"
   ]
  },
  {
   "cell_type": "markdown",
   "id": "9654e185",
   "metadata": {},
   "source": [
    "#### Analyse reconstruction error"
   ]
  },
  {
   "cell_type": "code",
   "execution_count": null,
   "id": "ebe8c6d2",
   "metadata": {},
   "outputs": [],
   "source": [
    "# use recommendation values as signal\n",
    "s = answers_df.answer_value.to_numpy().astype(int)"
   ]
  },
  {
   "cell_type": "code",
   "execution_count": null,
   "id": "12dd0bd8",
   "metadata": {},
   "outputs": [],
   "source": [
    "# create a smooth signal\n",
    "# compute eigenvalues\n",
    "lamda, V = la.eigh(np.array(graph.laplacian().todense().astype('float')))\n",
    "\n",
    "# construct a smooth signal\n",
    "k = 5\n",
    "gft_coeffs = np.random.normal(0, 10, k)\n",
    "s = eigvecs @ coeffs[:, np.newaxis]"
   ]
  },
  {
   "cell_type": "code",
   "execution_count": null,
   "id": "a57ea976",
   "metadata": {},
   "outputs": [],
   "source": [
    "# reconstruct the original signal from the preselected signal\n",
    "L = graph.laplacian()\n",
    "t = time.perf_counter()\n",
    "s_recon = reconstruct_signal(L, preselection, s[preselection])\n",
    "print(f\"This took {time.perf_counter()-start:.3f} s\")\n",
    "print(\"MSE (preselection only)\", mse(s, s_recon))"
   ]
  },
  {
   "cell_type": "code",
   "execution_count": null,
   "id": "81d067dc",
   "metadata": {},
   "outputs": [],
   "source": [
    "# reconstruct the original signal from the extended sampled signal\n",
    "t = time.perf_counter()\n",
    "s_recon = reconstruct_signal(L, sampling_set_extended, s[sampling_set_extended])\n",
    "print(f\"This took {time.perf_counter()-start:.3f} s\")\n",
    "print(\"MSE (extended):\", mse(s, s_recon))"
   ]
  },
  {
   "cell_type": "markdown",
   "id": "6763613b",
   "metadata": {},
   "source": [
    "#### Compare to sampling set without preselection"
   ]
  },
  {
   "cell_type": "code",
   "execution_count": null,
   "id": "84e6cecb",
   "metadata": {},
   "outputs": [],
   "source": [
    "start = time.perf_counter()\n",
    "sampling_set, thres = bs_gda(graph, sampling_budget, p_hops=p_hops, parallel=True)\n",
    "print(f\"This took {time.perf_counter()-start:.3f} s\")\n",
    "print(\"Budget:\", sampling_budget)\n",
    "print(\"Sampled nodes:\", len(sampling_set))"
   ]
  },
  {
   "cell_type": "code",
   "execution_count": null,
   "id": "11164275",
   "metadata": {},
   "outputs": [],
   "source": [
    "sampling_set = np.random.choice(range(n_nodes), 100, replace=False).tolist()\n",
    "s_recon = reconstruct_signal(L, sampling_set, s[sampling_set])\n",
    "mse_ = mse(s, s_recon)\n",
    "print(\"MSE without preselection:\", mse_)"
   ]
  },
  {
   "cell_type": "code",
   "execution_count": null,
   "id": "73bb0a91",
   "metadata": {},
   "outputs": [],
   "source": []
  }
 ],
 "metadata": {
  "kernelspec": {
   "display_name": "Python 3 (ipykernel)",
   "language": "python",
   "name": "python3"
  },
  "language_info": {
   "codemirror_mode": {
    "name": "ipython",
    "version": 3
   },
   "file_extension": ".py",
   "mimetype": "text/x-python",
   "name": "python",
   "nbconvert_exporter": "python",
   "pygments_lexer": "ipython3",
   "version": "3.8.5"
  }
 },
 "nbformat": 4,
 "nbformat_minor": 5
}
