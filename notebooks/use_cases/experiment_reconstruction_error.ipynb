{
 "cells": [
  {
   "cell_type": "markdown",
   "id": "102aa7ea",
   "metadata": {},
   "source": [
    "# Experiment: Reconstruction Quality of Sampled Signal"
   ]
  },
  {
   "cell_type": "markdown",
   "id": "5e1d63fb",
   "metadata": {},
   "source": [
    "## Setup"
   ]
  },
  {
   "cell_type": "code",
   "execution_count": null,
   "id": "757f9d26",
   "metadata": {},
   "outputs": [],
   "source": [
    "import sys\n",
    "PROJECT_PATH = \"/home/christopher_orlowicz1_vodafone_c/gershgorin\"\n",
    "sys.path.append(PROJECT_PATH)\n",
    "%cd $PROJECT_PATH\n",
    "\n",
    "%load_ext autoreload\n",
    "%autoreload 2"
   ]
  },
  {
   "cell_type": "code",
   "execution_count": null,
   "id": "471e3abf",
   "metadata": {},
   "outputs": [],
   "source": [
    "#!pip install -q -r requirements.txt\n",
    "#!pip install mpire\n",
    "#!pip install faiss-cpu==1.7.1 faiss-gpu==1.7.1"
   ]
  },
  {
   "cell_type": "code",
   "execution_count": null,
   "id": "40b49ffa",
   "metadata": {},
   "outputs": [],
   "source": [
    "import time\n",
    "from tqdm import tqdm\n",
    "\n",
    "from google.cloud import bigquery\n",
    "import matplotlib.pyplot as plt\n",
    "%config InlineBackend.figure_format = \"retina\"\n",
    "import networkx as nx\n",
    "import numpy as np\n",
    "import pandas as pd\n",
    "import pandas_gbq\n",
    "import scipy\n",
    "import torch\n",
    "\n",
    "import src.db.big_query as bq\n",
    "from src.db.preprocessing import Preprocessor\n",
    "from src.db.zip_code_mapper import ZipCodeMapper\n",
    "from src.gershgorin.bs_gda import bs_gda\n",
    "from src.graph.graph import Graph\n",
    "from src.graph import metrics\n",
    "from src.graph import sample_evaluation\n",
    "from src.graph.nearest_neighbors import NearestNeighbors\n",
    "from src.gsp.reconstruction import reconstruct_signal, reconstruct_signal_direct, mse\n",
    "import src.utils.plotting as util_plt\n",
    "from src.utils import layout"
   ]
  },
  {
   "cell_type": "markdown",
   "id": "27a35e85",
   "metadata": {},
   "source": [
    "## Build customer graph"
   ]
  },
  {
   "cell_type": "markdown",
   "id": "ce8cec9c",
   "metadata": {},
   "source": [
    "### Load customer data and recommendation scores"
   ]
  },
  {
   "cell_type": "code",
   "execution_count": null,
   "id": "b0691761",
   "metadata": {},
   "outputs": [],
   "source": [
    "# specify a timeframe to query\n",
    "from_date = \"2023-01-01\"\n",
    "to_date = \"2023-01-30\""
   ]
  },
  {
   "cell_type": "code",
   "execution_count": null,
   "id": "0af12378",
   "metadata": {},
   "outputs": [],
   "source": [
    "# read the CAR data (feedback score is known for all customers)\n",
    "car_df = bq.join_car_nps(from_date, to_date)"
   ]
  },
  {
   "cell_type": "markdown",
   "id": "c2de951d",
   "metadata": {},
   "source": [
    "### Preprocess the customer data"
   ]
  },
  {
   "cell_type": "markdown",
   "id": "fcd8819b",
   "metadata": {},
   "source": [
    "#### Remove unused features and impute missing values"
   ]
  },
  {
   "cell_type": "code",
   "execution_count": null,
   "id": "42b128d8",
   "metadata": {},
   "outputs": [],
   "source": [
    "prep = Preprocessor(from_date, to_date, data=car_df, verbose=False)\n",
    "car_df, client_ids, adr_zips = prep.car_df, prep.client_ids, prep.adr_zips"
   ]
  },
  {
   "cell_type": "code",
   "execution_count": null,
   "id": "3d5daa3a",
   "metadata": {},
   "outputs": [],
   "source": [
    "# take small sample\n",
    "sample = np.random.choice(car_df.shape[0], 1000, replace=False)\n",
    "car_df = car_df.loc[sample].reset_index(drop=True)\n",
    "client_ids = client_ids[sample].reset_index(drop=True)\n",
    "adr_zips = adr_zips[sample].reset_index(drop=True)"
   ]
  },
  {
   "cell_type": "code",
   "execution_count": null,
   "id": "0408a2b4",
   "metadata": {},
   "outputs": [],
   "source": [
    "car_df.shape"
   ]
  },
  {
   "cell_type": "markdown",
   "id": "f1ce947d",
   "metadata": {},
   "source": [
    "#### Remove unknown zip codes"
   ]
  },
  {
   "cell_type": "code",
   "execution_count": null,
   "id": "37ed90a6",
   "metadata": {},
   "outputs": [],
   "source": [
    "# load mapper for zip_code -> (longitude, latitude)\n",
    "zip_mapper = ZipCodeMapper()\n",
    "# load zip codes of customers\n",
    "adr_zip_df = pd.DataFrame(adr_zips, dtype=int)\n",
    "# remove unknown (unmappable) zip codes\n",
    "known_zips = adr_zip_df.adr_zip.isin(zip_mapper.zip_code_map.index)\n",
    "# apply mask to all three Dataframes\n",
    "adr_zips = adr_zip_df[known_zips].reset_index(drop=True)\n",
    "car_df = car_df[known_zips].reset_index(drop=True)\n",
    "client_ids = client_ids[known_zips].reset_index(drop=True)\n",
    "car_df.shape"
   ]
  },
  {
   "cell_type": "markdown",
   "id": "8753c865",
   "metadata": {},
   "source": [
    "#### Mapping zip codes to (long, lat) pairs"
   ]
  },
  {
   "cell_type": "code",
   "execution_count": null,
   "id": "14821be3",
   "metadata": {},
   "outputs": [],
   "source": [
    "# map zip code to coords\n",
    "coords = zip_mapper.map_zip_codes_to_coords(adr_zips)\n",
    "# remove zip codes, keep lat and long\n",
    "coords.drop(columns=\"adr_zip\", inplace=True)"
   ]
  },
  {
   "cell_type": "markdown",
   "id": "5578a543",
   "metadata": {},
   "source": [
    "### Construct graph"
   ]
  },
  {
   "cell_type": "code",
   "execution_count": null,
   "id": "9d7e92ad",
   "metadata": {},
   "outputs": [],
   "source": [
    "# store data as tensor on GPU\n",
    "X = torch.tensor(np.ascontiguousarray(car_df.to_numpy()), device=torch.device('cuda', 0), dtype=torch.float32)\n",
    "# compute k-nearest neighbor graph\n",
    "knn = NearestNeighbors(device=\"gpu\")\n",
    "t = time.perf_counter()\n",
    "_, k_neighbors = knn.knn(X, k=50)\n",
    "print(f\"This took {time.perf_counter()-t:.3f} s\")"
   ]
  },
  {
   "cell_type": "code",
   "execution_count": null,
   "id": "b7e97d2b",
   "metadata": {},
   "outputs": [],
   "source": [
    "# build adjacency matrix from neighborhood index\n",
    "A = knn.to_adj_matrix(k_neighbors)\n",
    "n_nodes = A.shape[0]"
   ]
  },
  {
   "cell_type": "code",
   "execution_count": null,
   "id": "ca5f917b",
   "metadata": {},
   "outputs": [],
   "source": [
    "# directed graph: count_nonzero(A) >= n_edges >= count_nonzero(A)/2\n",
    "# undirected graph: count_nonzero(A)/2 = n_edges\n",
    "n_edges = A.getnnz()\n",
    "metrics.density(n_nodes, n_edges, mode=\"directed\")"
   ]
  },
  {
   "cell_type": "code",
   "execution_count": null,
   "id": "1d26807d",
   "metadata": {},
   "outputs": [],
   "source": [
    "# wrap graph for faster neighborhood queries\n",
    "graph = Graph(A)"
   ]
  },
  {
   "cell_type": "markdown",
   "id": "91d9cdc5",
   "metadata": {},
   "source": [
    "## Signal reconstruction error"
   ]
  },
  {
   "cell_type": "markdown",
   "id": "d3612736",
   "metadata": {},
   "source": [
    "### Load recommendation scores (signal)"
   ]
  },
  {
   "cell_type": "code",
   "execution_count": null,
   "id": "f54727cf",
   "metadata": {},
   "outputs": [],
   "source": [
    "# read the recommendation values (NPS data) that we will use as signal\n",
    "answers_df = bq.nps_query_timeframe(from_date, to_date)\n",
    "# remove answers that cannot be assigned to a customer in CAR\n",
    "answers_df = answers_df[answers_df.client_id.isin(client_ids)].reset_index(drop=True)\n",
    "s = answers_df.answer_value.values.astype(int)"
   ]
  },
  {
   "cell_type": "code",
   "execution_count": null,
   "id": "83db996c",
   "metadata": {},
   "outputs": [],
   "source": [
    "# plot the signal\n",
    "plt.figure(figsize=(50, 20))\n",
    "plt.plot(s);"
   ]
  },
  {
   "cell_type": "markdown",
   "id": "ddb15764",
   "metadata": {},
   "source": [
    "### Test error of random sample"
   ]
  },
  {
   "cell_type": "code",
   "execution_count": null,
   "id": "79e26294",
   "metadata": {},
   "outputs": [],
   "source": [
    "rand_sample = np.random.choice(n_nodes, 100, replace=False)\n",
    "s_rec = reconstruct_signal(graph.laplacian(), rand_sample, s[rand_sample])\n",
    "print(\"MSE of random sample:\", mse(s, s_rec))"
   ]
  },
  {
   "cell_type": "markdown",
   "id": "4ea95520",
   "metadata": {},
   "source": [
    "### Compute sampling sets and reconstruct signal"
   ]
  },
  {
   "cell_type": "code",
   "execution_count": null,
   "id": "ca3ef502",
   "metadata": {},
   "outputs": [],
   "source": [
    "from bin.reconstruction_analysis import run_sampling_budget_experiment\n",
    "\n",
    "#sampling_budget = np.linspace(100, 200, 4)\n",
    "sampling_budget = np.array([500, 600])\n",
    "t = time.perf_counter()\n",
    "run_sampling_budget_experiment(graph, graph.laplacian(), s, sampling_budget, \"Customer\", p_hops=6, parallel=True)\n",
    "time.perf_counter()-t"
   ]
  },
  {
   "cell_type": "code",
   "execution_count": null,
   "id": "3d9056fe",
   "metadata": {},
   "outputs": [],
   "source": [
    "from bin.reconstruction_analysis import run_p_hops_experiment\n",
    "\n",
    "p_hops = np.arange(1, 13)\n",
    "t = time.perf_counter()\n",
    "run_p_hops_experiment(graph, graph.laplacian(), s, p_hops, \"Customer\", sampling_budget=100, parallel=True)\n",
    "time.perf_counter()-t"
   ]
  },
  {
   "cell_type": "code",
   "execution_count": null,
   "id": "7a6355ac",
   "metadata": {},
   "outputs": [],
   "source": []
  }
 ],
 "metadata": {
  "finalized": {
   "timestamp": 1678121674618,
   "trusted": true
  },
  "kernelspec": {
   "display_name": "Python 3 (ipykernel)",
   "language": "python",
   "name": "python3"
  },
  "language_info": {
   "codemirror_mode": {
    "name": "ipython",
    "version": 3
   },
   "file_extension": ".py",
   "mimetype": "text/x-python",
   "name": "python",
   "nbconvert_exporter": "python",
   "pygments_lexer": "ipython3",
   "version": "3.8.5"
  }
 },
 "nbformat": 4,
 "nbformat_minor": 5
}
