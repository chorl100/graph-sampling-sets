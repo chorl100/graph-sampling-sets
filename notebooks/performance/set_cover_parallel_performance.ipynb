{
 "cells": [
  {
   "cell_type": "code",
   "execution_count": null,
   "id": "089bb236",
   "metadata": {},
   "outputs": [],
   "source": [
    "import sys\n",
    "sys.path.append(\"home/christopher_orlowicz1_vodafone_c/gershgorin/\")\n",
    "%cd home/christopher_orlowicz1_vodafone_c/gershgorin/"
   ]
  },
  {
   "cell_type": "code",
   "execution_count": null,
   "id": "1dbf4cec",
   "metadata": {},
   "outputs": [],
   "source": [
    "import mpire\n",
    "import multiprocessing\n",
    "from functools import partial\n",
    "import numpy as np\n",
    "import time\n",
    "import matplotlib.pyplot as plt\n",
    "\n",
    "from src.gershgorin.greedy_sampling import greedy_set_cover_parallel_, greedy_set_cover_\n",
    "from src.gershgorin.disc_alignment import estimate_coverage_subsets, expand_radius\n",
    "from src.gershgorin.bs_gda import BS_GDA\n",
    "from src.graph.graph_builder import GraphBuilder\n",
    "from src.graph.graph import Graph"
   ]
  },
  {
   "cell_type": "code",
   "execution_count": null,
   "id": "ce8b457e",
   "metadata": {},
   "outputs": [],
   "source": [
    "def task(shared_objects, set_idx, sets, uncovered):\n",
    "    covered, selected = shared_objects\n",
    "    max_coverage_set = set()\n",
    "    max_coverage = 0\n",
    "    max_idx = None\n",
    "    for node, s in zip(set_idx, sets):\n",
    "        if not (covered[node] or selected[node]):\n",
    "            coverage_set = s & uncovered\n",
    "            num_covered = len(coverage_set)\n",
    "            if num_covered > max_coverage:\n",
    "                max_coverage_set = coverage_set\n",
    "                max_coverage = num_covered\n",
    "                max_idx = node\n",
    "            elif num_covered == 0:\n",
    "                covered[node] = 1\n",
    "    return max_coverage_set, max_idx\n",
    "\n",
    "\n",
    "def set_cover(k, sets, uncovered, covered, selected, n_jobs):\n",
    "    sampling_set = list()\n",
    "    batches = np.array_split(sets, n_jobs)\n",
    "    set_idx = list(range(len(sets)))\n",
    "    batched_set_idx = np.array_split(set_idx, n_jobs)\n",
    "    num_selected = 0\n",
    "    \n",
    "    with mpire.WorkerPool(n_jobs, shared_objects=(covered, selected), keep_alive=True) as pool:\n",
    "        while len(uncovered) > 0 and num_selected < k:\n",
    "            candidates = list(\n",
    "                pool.map_unordered(\n",
    "                    partial(task, uncovered=uncovered), zip(batched_set_idx, batches), \n",
    "                    iterable_len=len(batches), n_splits=n_jobs\n",
    "                ))\n",
    "            max_coverage_set, max_idx = max(candidates, key=lambda x: len(x[0]))\n",
    "            uncovered -= max_coverage_set\n",
    "            sampling_set.append(max_idx)\n",
    "            selected[max_idx] = 1\n",
    "            num_selected += 1\n",
    "        \n",
    "    vf = True\n",
    "    if len(uncovered) > 0:\n",
    "        vf = False\n",
    "    \n",
    "    return sampling_set, vf"
   ]
  },
  {
   "cell_type": "code",
   "execution_count": null,
   "id": "b45f7383",
   "metadata": {},
   "outputs": [],
   "source": [
    "def setup(n, k):\n",
    "    uncovered = set(range(n))\n",
    "    sets = [set([i]) for i in range(n)]\n",
    "    #covered = np.zeros(n, dtype=bool)\n",
    "    #selected = np.zeros(n, dtype=bool)\n",
    "    covered = multiprocessing.Array('b', n, lock=False)\n",
    "    selected = multiprocessing.Array('b', n, lock=False)\n",
    "    for i in range(n):\n",
    "        covered[i] = 0\n",
    "        selected[i] = 0\n",
    "    return sets, uncovered, covered, selected\n",
    "\n",
    "n = 2000\n",
    "k = int(0.1*n)\n",
    "sets, uncovered, covered, selected = setup(n, k)\n",
    "t = time.perf_counter()\n",
    "sampling_set, vf = set_cover(k, sets, uncovered, covered, selected, n_jobs=10)\n",
    "print(f\"That took {time.perf_counter()-t} s\")\n"
   ]
  },
  {
   "cell_type": "code",
   "execution_count": null,
   "id": "177604e4",
   "metadata": {},
   "outputs": [],
   "source": [
    "ns = [500, 1000, 1500, 2000, 3000, 4000, 5000]\n",
    "jobs = [2, 4, 8, 16, 32, 64, 96]\n",
    "\n",
    "times = np.zeros((len(jobs), len(ns)))\n",
    "for i, n_jobs in enumerate(jobs):\n",
    "    print(n_jobs)\n",
    "    for j, n in enumerate(ns):\n",
    "        print(n, end=\" \")\n",
    "        k = int(0.1*n)\n",
    "        sets, uncovered, covered, selected = setup(n, k)\n",
    "        t = time.perf_counter()\n",
    "        set_cover(k, sets, uncovered, covered, selected, n_jobs)\n",
    "        times[i, j] = time.perf_counter()-t\n",
    "    print()"
   ]
  },
  {
   "cell_type": "code",
   "execution_count": null,
   "id": "e900f6ec",
   "metadata": {},
   "outputs": [],
   "source": [
    "plt.figure()\n",
    "for i, n_jobs in enumerate(jobs):\n",
    "    plt.plot(ns, times[i], label=n_jobs)\n",
    "\n",
    "plt.yscale('log')\n",
    "plt.legend();"
   ]
  },
  {
   "cell_type": "markdown",
   "id": "6c25ea19",
   "metadata": {},
   "source": [
    "## Graphs"
   ]
  },
  {
   "cell_type": "code",
   "execution_count": null,
   "id": "7d3049da",
   "metadata": {},
   "outputs": [],
   "source": [
    "runs = 1\n",
    "thres = 0.5\n",
    "mu = 0.01\n",
    "p_hops = 12"
   ]
  },
  {
   "cell_type": "code",
   "execution_count": null,
   "id": "0661f09b",
   "metadata": {},
   "outputs": [],
   "source": [
    "sizes = [500, 1000, 3000, 5000, 7000, 10000]\n",
    "jobs = [2, 4, 8, 16, 24, 32]\n",
    "graphs = [GraphBuilder(\"sensor\").sensor(n) for n in sizes]\n",
    "graphs = [Graph(graph.W) for graph in graphs]"
   ]
  },
  {
   "cell_type": "code",
   "execution_count": null,
   "id": "3733eeff",
   "metadata": {},
   "outputs": [],
   "source": [
    "times = np.zeros((len(jobs), len(sizes)))\n",
    "for i, n_jobs in enumerate(jobs):\n",
    "    print(n_jobs)\n",
    "    for j, n in enumerate(sizes):\n",
    "        print(n, end=\" \")\n",
    "        k = int(0.1*n)\n",
    "        nodes = list(range(n))\n",
    "        sets = estimate_coverage_subsets(nodes, graphs[j], thres, mu, p_hops, parallel=False)\n",
    "        t = time.perf_counter()\n",
    "        greedy_set_cover_parallel_(sets, nodes, k, n_jobs)\n",
    "        times[i, j] = time.perf_counter()-t\n",
    "    print()\n"
   ]
  },
  {
   "cell_type": "code",
   "execution_count": null,
   "id": "c12577e5",
   "metadata": {},
   "outputs": [],
   "source": [
    "plt.figure()\n",
    "for i, n_jobs in enumerate(jobs):\n",
    "    plt.plot(sizes, times[i], alpha=.7, label=n_jobs)\n",
    "\n",
    "plt.title(\"Runtime comparison for different number of processors\")\n",
    "plt.xlabel(\"Nodes\")\n",
    "plt.ylabel(\"Time (in s)\")\n",
    "plt.yscale('log')\n",
    "plt.legend()\n",
    "plt.savefig(\"set_cover_graph_size_vs_num_processors.pdf\")"
   ]
  },
  {
   "cell_type": "code",
   "execution_count": null,
   "id": "871f4b70",
   "metadata": {},
   "outputs": [],
   "source": [
    "times_seq = np.zeros(len(sizes))\n",
    "for j, n in enumerate(sizes):\n",
    "    print(n, end=\" \")\n",
    "    k = int(0.1*n)\n",
    "    nodes = list(range(n))\n",
    "    sets = estimate_coverage_subsets(nodes, graphs[j], thres, mu, p_hops, parallel=False)\n",
    "    t = time.perf_counter()\n",
    "    greedy_set_cover_(sets, nodes, k)\n",
    "    times_seq[j] = time.perf_counter()-t\n",
    "print()"
   ]
  },
  {
   "cell_type": "code",
   "execution_count": null,
   "id": "61e0f580",
   "metadata": {},
   "outputs": [],
   "source": [
    "plt.figure()\n",
    "plt.plot(sizes, times_seq, alpha=.7)\n",
    "plt.title(\"Runtime of sequential execution\")\n",
    "plt.xlabel(\"Nodes\")\n",
    "plt.ylabel(\"Time (in s)\")\n",
    "plt.yscale('log')\n",
    "plt.savefig(\"set_cover_sequential_graph_size_vs_num_processors.pdf\")"
   ]
  },
  {
   "cell_type": "code",
   "execution_count": null,
   "id": "c09f4311",
   "metadata": {},
   "outputs": [],
   "source": []
  }
 ],
 "metadata": {
  "kernelspec": {
   "display_name": "Python 3 (ipykernel)",
   "language": "python",
   "name": "python3"
  },
  "language_info": {
   "codemirror_mode": {
    "name": "ipython",
    "version": 3
   },
   "file_extension": ".py",
   "mimetype": "text/x-python",
   "name": "python",
   "nbconvert_exporter": "python",
   "pygments_lexer": "ipython3",
   "version": "3.8.5"
  }
 },
 "nbformat": 4,
 "nbformat_minor": 5
}
