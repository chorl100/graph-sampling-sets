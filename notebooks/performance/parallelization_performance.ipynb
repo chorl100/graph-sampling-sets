{
 "cells": [
  {
   "cell_type": "markdown",
   "id": "c9992740",
   "metadata": {},
   "source": [
    "# Estimate performance benefit of paralellization"
   ]
  },
  {
   "cell_type": "code",
   "execution_count": null,
   "id": "dbd4e64a",
   "metadata": {},
   "outputs": [],
   "source": [
    "import sys\n",
    "sys.path.append(\"home/christopher_orlowicz1_vodafone_c/gershgorin/\")"
   ]
  },
  {
   "cell_type": "code",
   "execution_count": null,
   "id": "5df7c4ae",
   "metadata": {},
   "outputs": [],
   "source": [
    "%pip install gurobipy graphilp mpire"
   ]
  },
  {
   "cell_type": "code",
   "execution_count": null,
   "id": "d804d9ce",
   "metadata": {},
   "outputs": [],
   "source": [
    "#%cd home/christopher_orlowicz1_vodafone_c/gershgorin/"
   ]
  },
  {
   "cell_type": "code",
   "execution_count": null,
   "id": "b440519e",
   "metadata": {},
   "outputs": [],
   "source": [
    "import time\n",
    "\n",
    "import matplotlib.pyplot as plt\n",
    "import numpy as np\n",
    "import mpire\n",
    "from functools import partial\n",
    "\n",
    "from src.gershgorin.disc_alignment import estimate_coverage_subsets, expand_radius\n",
    "from src.gershgorin.bs_gda import BS_GDA\n",
    "from src.graph.graph_builder import GraphBuilder\n",
    "from src.graph.graph import Graph"
   ]
  },
  {
   "cell_type": "markdown",
   "id": "e463ea46",
   "metadata": {},
   "source": [
    "## Single executation of estimate_coverage_subsets"
   ]
  },
  {
   "cell_type": "code",
   "execution_count": null,
   "id": "f4884efc",
   "metadata": {},
   "outputs": [],
   "source": [
    "runs = 5\n",
    "thres = 0.5\n",
    "mu = 0.01\n",
    "p_hops = 12"
   ]
  },
  {
   "cell_type": "code",
   "execution_count": null,
   "id": "813f861d",
   "metadata": {},
   "outputs": [],
   "source": [
    "sizes = [200, 500, 800, 1000, 1200, 1500, 2000, 5000, 7000, 10000]\n",
    "graphs = [GraphBuilder(\"sensor\").sensor(n) for n in sizes]\n",
    "graphs = [Graph(graph.W) for graph in graphs]"
   ]
  },
  {
   "cell_type": "code",
   "execution_count": null,
   "id": "108ee903",
   "metadata": {},
   "outputs": [],
   "source": [
    "m = len(sizes)\n",
    "not_parallel = np.zeros(m)\n",
    "parallel = np.zeros(m)\n",
    "\n",
    "for i in range(runs):\n",
    "    print(\"Run\", i+1)\n",
    "    for j, (n, g) in enumerate(zip(sizes, graphs)):\n",
    "        print(n, end=\" \")\n",
    "        nodes = list(range(n))\n",
    "        start = time.perf_counter()\n",
    "        estimate_coverage_subsets(nodes, g, thres, mu, p_hops, parallel=False)\n",
    "        not_parallel[j] += time.perf_counter()-start\n",
    "        start = time.perf_counter()\n",
    "        estimate_coverage_subsets(nodes, g, thres, mu, p_hops, parallel=True)\n",
    "        parallel[j] += time.perf_counter()-start\n",
    "    print()\n",
    "not_parallel /= m\n",
    "parallel /= m"
   ]
  },
  {
   "cell_type": "code",
   "execution_count": null,
   "id": "71b191de",
   "metadata": {},
   "outputs": [],
   "source": [
    "plt.figure()\n",
    "plt.plot(sizes, not_parallel, alpha=.8, label=\"Sequential\")\n",
    "plt.plot(sizes, parallel, alpha=.8, label=\"Parallel\")\n",
    "plt.title(\"Sequential vs. parallel execution\")\n",
    "plt.xlabel(\"Nodes\")\n",
    "plt.ylabel(\"Time (in s)\")\n",
    "plt.legend()\n",
    "plt.savefig(\"seq_vs_parallel_single.pdf\")"
   ]
  },
  {
   "cell_type": "markdown",
   "id": "eeed7e4f",
   "metadata": {},
   "source": [
    "## Batching"
   ]
  },
  {
   "cell_type": "code",
   "execution_count": null,
   "id": "7c3e68aa",
   "metadata": {},
   "outputs": [],
   "source": [
    "from queue import PriorityQueue\n",
    "\n",
    "def estimate_coverage_subsets_no_batch(nodes, graph: Graph, thres: float, mu: float, p_hops: int, parallel=False):\n",
    "    if parallel:\n",
    "        # start as many processes as cores are available\n",
    "        with mpire.WorkerPool(mpire.cpu_count(), shared_objects=graph) as pool:\n",
    "            return list(\n",
    "                pool.map(\n",
    "                    partial(estimate_coverage_subset_, thres=thres, mu=mu, p_hops=p_hops),\n",
    "                    nodes\n",
    "                )\n",
    "            )\n",
    "    else:\n",
    "        coverage_subsets = list()\n",
    "        for i in nodes:\n",
    "            coverage_subset = estimate_coverage_subset_(i, graph, thres, mu, p_hops)\n",
    "            coverage_subsets.append(coverage_subset)\n",
    "        return coverage_subsets\n",
    "\n",
    "# shared object (graph) has to be the first argument of the method\n",
    "def estimate_coverage_subset_(graph: Graph, i: int, thres: float, mu: float, p_hops: int) -> set:\n",
    "    \"\"\"Estimating Coverage Subset. (Algorithm 1)\n",
    "    :param i: candidate sampling node\n",
    "    :param graph: graph\n",
    "    :param thres: threshold for lower bound\n",
    "    :param mu: parameter for graph Laplacian based gsp reconstruction\n",
    "    :param p_hops: number of hops\n",
    "    :return: coverage subset\n",
    "    \"\"\"\n",
    "    n = graph.num_nodes\n",
    "    # initial disc radii\n",
    "    s = np.ones(n)\n",
    "    # candidate sampling vector\n",
    "    a = np.zeros(n, dtype=bool)\n",
    "    a[i] = 1\n",
    "    # hop numbers\n",
    "    h = np.zeros(n, dtype=np.int8)\n",
    "    coverage_subset = set()\n",
    "    # visited nodes\n",
    "    visited = np.zeros(n, dtype=bool)\n",
    "    queue = PriorityQueue()\n",
    "    queue.put(i)\n",
    "    visited[i] = 1\n",
    "    while not queue.empty():\n",
    "        k = queue.get()\n",
    "        s[k] = expand_radius(graph, s, k, a, mu, thres)\n",
    "        if s[k] >= 1 and h[k] <= p_hops:\n",
    "            coverage_subset.add(k)\n",
    "            for t in graph.neighbors[k]:\n",
    "                if not visited[t]:\n",
    "                    queue.put(t)\n",
    "                    visited[t] = 1\n",
    "                    h[t] = h[k] + 1\n",
    "    return coverage_subset"
   ]
  },
  {
   "cell_type": "code",
   "execution_count": null,
   "id": "527498a7",
   "metadata": {},
   "outputs": [],
   "source": [
    "runs = 5\n",
    "thres = 0.5\n",
    "mu = 0.01\n",
    "p_hops = 12"
   ]
  },
  {
   "cell_type": "code",
   "execution_count": null,
   "id": "38fc003f",
   "metadata": {},
   "outputs": [],
   "source": [
    "sizes = [200, 500, 800, 1000, 1200, 1500, 2000, 3000, 5000, 10000]\n",
    "graphs = [GraphBuilder(\"sensor\").sensor(n) for n in sizes]\n",
    "graphs = [Graph(graph.W) for graph in graphs]"
   ]
  },
  {
   "cell_type": "code",
   "execution_count": null,
   "id": "8b34e73e",
   "metadata": {},
   "outputs": [],
   "source": [
    "m = len(sizes)\n",
    "not_batched = np.zeros(m)\n",
    "batched = np.zeros(m)\n",
    "\n",
    "for i in range(runs):\n",
    "    print(\"Run\", i+1)\n",
    "    for j, (n, g) in enumerate(zip(sizes, graphs)):\n",
    "        print(n, end=\" \")\n",
    "        nodes = list(range(n))\n",
    "        start = time.perf_counter()\n",
    "        estimate_coverage_subsets(nodes, g, thres, mu, p_hops, parallel=True)\n",
    "        batched[j] += time.perf_counter()-start\n",
    "        start = time.perf_counter()\n",
    "        estimate_coverage_subsets_no_batch(nodes, g, thres, mu, p_hops, parallel=True)\n",
    "        not_batched[j] += time.perf_counter()-start\n",
    "    print()\n",
    "not_batched /= m\n",
    "batched /= m"
   ]
  },
  {
   "cell_type": "code",
   "execution_count": null,
   "id": "3c447f62",
   "metadata": {},
   "outputs": [],
   "source": [
    "plt.figure()\n",
    "plt.plot(sizes, not_batched, alpha=.8, label=\"Not batched\")\n",
    "plt.plot(sizes, batched, alpha=.8, label=\"Batched\")\n",
    "plt.title(\"Batched vs. not-batched execution\")\n",
    "plt.xlabel(\"Nodes\")\n",
    "plt.ylabel(\"Time (in s)\")\n",
    "plt.legend()\n",
    "plt.savefig(\"batched_vs_not_batched_single.pdf\")"
   ]
  },
  {
   "cell_type": "markdown",
   "id": "dccee6f2",
   "metadata": {},
   "source": [
    "## Complete sampling method"
   ]
  },
  {
   "cell_type": "code",
   "execution_count": null,
   "id": "70c39bf0",
   "metadata": {},
   "outputs": [],
   "source": [
    "sizes = [2000, 3000, 4000, 5000, 7000, 10000]\n",
    "graphs = [GraphBuilder(\"sensor\").sensor(n) for n in sizes]\n",
    "graphs = [Graph(graph.W) for graph in graphs]"
   ]
  },
  {
   "cell_type": "code",
   "execution_count": null,
   "id": "6bcc94ec",
   "metadata": {},
   "outputs": [],
   "source": [
    "runs = 2\n",
    "k = 0.1\n",
    "mu = 0.01\n",
    "eps = 1e-5\n",
    "p_hops = 12"
   ]
  },
  {
   "cell_type": "code",
   "execution_count": null,
   "id": "b2fb791e",
   "metadata": {},
   "outputs": [],
   "source": [
    "m = len(sizes)\n",
    "not_parallel = np.zeros(m)\n",
    "parallel = np.zeros(m)\n",
    "\n",
    "for i in range(runs):\n",
    "    print(\"Run\", i+1)\n",
    "    for j, (n, g) in enumerate(zip(sizes, graphs)):\n",
    "        print(n, end=\" \")\n",
    "        start = time.perf_counter()\n",
    "        BS_GDA().bs_gda(g, int(k*n), mu, eps, p_hops, parallel=False)\n",
    "        not_parallel[j] += time.perf_counter()-start\n",
    "        start = time.perf_counter()\n",
    "        BS_GDA().bs_gda(g, int(k*n), mu, eps, p_hops, parallel=True)\n",
    "        parallel[j] += time.perf_counter()-start\n",
    "not_parallel /= m\n",
    "parallel /= m"
   ]
  },
  {
   "cell_type": "code",
   "execution_count": null,
   "id": "3e598bf8",
   "metadata": {},
   "outputs": [],
   "source": [
    "plt.figure()\n",
    "plt.plot(sizes, not_parallel, alpha=.8, label=\"Sequential\")\n",
    "plt.plot(sizes, parallel, alpha=.8, label=\"Parallel\")\n",
    "plt.title(\"Sequential vs. parallel execution\")\n",
    "plt.xlabel(\"Nodes\")\n",
    "plt.ylabel(\"Time (in s)\")\n",
    "plt.legend()\n",
    "plt.savefig(\"seq_vs_parallel_complete.pdf\")"
   ]
  },
  {
   "cell_type": "code",
   "execution_count": null,
   "id": "add8b318",
   "metadata": {},
   "outputs": [],
   "source": []
  }
 ],
 "metadata": {
  "kernelspec": {
   "display_name": "Python 3 (ipykernel)",
   "language": "python",
   "name": "python3"
  },
  "language_info": {
   "codemirror_mode": {
    "name": "ipython",
    "version": 3
   },
   "file_extension": ".py",
   "mimetype": "text/x-python",
   "name": "python",
   "nbconvert_exporter": "python",
   "pygments_lexer": "ipython3",
   "version": "3.8.5"
  }
 },
 "nbformat": 4,
 "nbformat_minor": 5
}
