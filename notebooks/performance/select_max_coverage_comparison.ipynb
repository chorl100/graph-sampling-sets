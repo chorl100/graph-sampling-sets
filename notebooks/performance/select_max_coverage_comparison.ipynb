{
 "cells": [
  {
   "cell_type": "code",
   "execution_count": null,
   "id": "2ab40469",
   "metadata": {},
   "outputs": [],
   "source": [
    "import sys\n",
    "sys.path.append(\"../../gershgorin/\")"
   ]
  },
  {
   "cell_type": "code",
   "execution_count": null,
   "id": "30ac6877",
   "metadata": {},
   "outputs": [],
   "source": [
    "from src.gershgorin.bs_gda import BS_GDA\n",
    "from src.graph.graph import Graph\n",
    "\n",
    "import numpy as np\n",
    "import matplotlib.pyplot as plt\n",
    "import scipy\n",
    "import time"
   ]
  },
  {
   "cell_type": "code",
   "execution_count": null,
   "id": "0a8bc8e6",
   "metadata": {},
   "outputs": [],
   "source": [
    "def select_max_coverage_set_old(sets: list, uncovered: set):\n",
    "    \"\"\"\n",
    "    Selects the one set that covers most of the uncovered nodes.\n",
    "    \"\"\"\n",
    "    max_coverage_set = set()\n",
    "    max_coverage = 0\n",
    "    max_idx = None\n",
    "    for node, s in enumerate(sets):\n",
    "        coverage_set = s & uncovered\n",
    "        num_covered = len(coverage_set)\n",
    "        if num_covered > max_coverage:\n",
    "            max_coverage_set = coverage_set\n",
    "            max_coverage = num_covered\n",
    "            max_idx = node\n",
    "    return max_coverage_set, max_idx\n",
    "\n",
    "def select_max_coverage_set_new(coverage_subsets, selected_sets, covered_sets, uncovered):\n",
    "    \"\"\"\n",
    "    Selects the set that covers most of the uncovered nodes.\n",
    "    \"\"\"\n",
    "    N = len(uncovered)\n",
    "    num_uncovered = np.zeros(N, dtype=int)\n",
    "    # for every node / coverage subset\n",
    "    for i in range(N):\n",
    "        # if set is not selected or covered yet\n",
    "        if not (selected_sets[i] or covered_sets[i]):\n",
    "            # calculate the number of nodes that the set would cover\n",
    "            num_uncovered[i] = np.sum(uncovered[coverage_subsets[i]])\n",
    "            # if the set would cover no more nodes, mark it as covered\n",
    "            if num_uncovered[i] == 0:\n",
    "                covered_sets[i] = 1\n",
    "    max_idx = np.argmax(num_uncovered)\n",
    "    max_coverage_set = coverage_subsets[max_idx]\n",
    "    return max_coverage_set, max_idx"
   ]
  },
  {
   "cell_type": "code",
   "execution_count": null,
   "id": "c6215ba7",
   "metadata": {},
   "outputs": [],
   "source": [
    "n = 5\n",
    "ss = np.zeros(n, dtype=int)\n",
    "cs = np.zeros(n, dtype=int)\n",
    "uncovered = np.ones(n, dtype=bool)\n",
    "coverage_subsets = [[0, 1], [1, 2, 3], [1], [2], [0]]\n",
    "uncovered_set = set(np.arange(n))\n",
    "sets = [set(ell) for ell in coverage_subsets]"
   ]
  },
  {
   "cell_type": "code",
   "execution_count": null,
   "id": "370745e1",
   "metadata": {},
   "outputs": [],
   "source": [
    "s = time.perf_counter_ns()\n",
    "select_max_coverage_set_new(coverage_subsets, ss, cs, uncovered)\n",
    "print(time.perf_counter_ns()-s)\n",
    "s = time.perf_counter_ns()\n",
    "select_max_coverage_set_old(sets, uncovered_set)\n",
    "print(time.perf_counter_ns()-s)"
   ]
  },
  {
   "cell_type": "code",
   "execution_count": null,
   "id": "aa0151e5",
   "metadata": {},
   "outputs": [],
   "source": [
    "%timeit select_max_coverage_set_new(coverage_subsets, ss, cs, uncovered)\n",
    "%timeit select_max_coverage_set_old(sets, uncovered_set)"
   ]
  },
  {
   "cell_type": "code",
   "execution_count": null,
   "id": "48580f32",
   "metadata": {},
   "outputs": [],
   "source": [
    "print(ss)\n",
    "print(cs)\n",
    "print(uncovered)\n",
    "print(coverage_subsets)"
   ]
  },
  {
   "cell_type": "code",
   "execution_count": null,
   "id": "4fc7e72c",
   "metadata": {},
   "outputs": [],
   "source": []
  }
 ],
 "metadata": {
  "kernelspec": {
   "display_name": "Python 3 (ipykernel)",
   "language": "python",
   "name": "python3"
  },
  "language_info": {
   "codemirror_mode": {
    "name": "ipython",
    "version": 3
   },
   "file_extension": ".py",
   "mimetype": "text/x-python",
   "name": "python",
   "nbconvert_exporter": "python",
   "pygments_lexer": "ipython3",
   "version": "3.8.5"
  }
 },
 "nbformat": 4,
 "nbformat_minor": 5
}
